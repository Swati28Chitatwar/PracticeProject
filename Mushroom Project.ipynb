{
 "cells": [
  {
   "cell_type": "code",
   "execution_count": 1,
   "metadata": {},
   "outputs": [],
   "source": [
    "import numpy as np\n",
    "import pandas as pd\n",
    "import seaborn as sns\n",
    "import matplotlib.pyplot as plt\n",
    "import os\n",
    "from sklearn.model_selection import train_test_split\n",
    "from sklearn.preprocessing import LabelEncoder\n",
    "from sklearn.metrics import classification_report, confusion_matrix\n",
    "from sklearn.tree import export_graphviz\n",
    "import graphviz"
   ]
  },
  {
   "cell_type": "code",
   "execution_count": 2,
   "metadata": {},
   "outputs": [],
   "source": [
    "df = pd.read_csv(\"mushrooms.csv\")"
   ]
  },
  {
   "cell_type": "code",
   "execution_count": 3,
   "metadata": {},
   "outputs": [
    {
     "data": {
      "text/html": [
       "<div>\n",
       "<style scoped>\n",
       "    .dataframe tbody tr th:only-of-type {\n",
       "        vertical-align: middle;\n",
       "    }\n",
       "\n",
       "    .dataframe tbody tr th {\n",
       "        vertical-align: top;\n",
       "    }\n",
       "\n",
       "    .dataframe thead th {\n",
       "        text-align: right;\n",
       "    }\n",
       "</style>\n",
       "<table border=\"1\" class=\"dataframe\">\n",
       "  <thead>\n",
       "    <tr style=\"text-align: right;\">\n",
       "      <th></th>\n",
       "      <th>class</th>\n",
       "      <th>cap-shape</th>\n",
       "      <th>cap-surface</th>\n",
       "      <th>cap-color</th>\n",
       "      <th>bruises</th>\n",
       "      <th>odor</th>\n",
       "      <th>gill-attachment</th>\n",
       "      <th>gill-spacing</th>\n",
       "      <th>gill-size</th>\n",
       "      <th>gill-color</th>\n",
       "      <th>...</th>\n",
       "      <th>stalk-surface-below-ring</th>\n",
       "      <th>stalk-color-above-ring</th>\n",
       "      <th>stalk-color-below-ring</th>\n",
       "      <th>veil-type</th>\n",
       "      <th>veil-color</th>\n",
       "      <th>ring-number</th>\n",
       "      <th>ring-type</th>\n",
       "      <th>spore-print-color</th>\n",
       "      <th>population</th>\n",
       "      <th>habitat</th>\n",
       "    </tr>\n",
       "  </thead>\n",
       "  <tbody>\n",
       "    <tr>\n",
       "      <th>0</th>\n",
       "      <td>p</td>\n",
       "      <td>x</td>\n",
       "      <td>s</td>\n",
       "      <td>n</td>\n",
       "      <td>t</td>\n",
       "      <td>p</td>\n",
       "      <td>f</td>\n",
       "      <td>c</td>\n",
       "      <td>n</td>\n",
       "      <td>k</td>\n",
       "      <td>...</td>\n",
       "      <td>s</td>\n",
       "      <td>w</td>\n",
       "      <td>w</td>\n",
       "      <td>p</td>\n",
       "      <td>w</td>\n",
       "      <td>o</td>\n",
       "      <td>p</td>\n",
       "      <td>k</td>\n",
       "      <td>s</td>\n",
       "      <td>u</td>\n",
       "    </tr>\n",
       "    <tr>\n",
       "      <th>1</th>\n",
       "      <td>e</td>\n",
       "      <td>x</td>\n",
       "      <td>s</td>\n",
       "      <td>y</td>\n",
       "      <td>t</td>\n",
       "      <td>a</td>\n",
       "      <td>f</td>\n",
       "      <td>c</td>\n",
       "      <td>b</td>\n",
       "      <td>k</td>\n",
       "      <td>...</td>\n",
       "      <td>s</td>\n",
       "      <td>w</td>\n",
       "      <td>w</td>\n",
       "      <td>p</td>\n",
       "      <td>w</td>\n",
       "      <td>o</td>\n",
       "      <td>p</td>\n",
       "      <td>n</td>\n",
       "      <td>n</td>\n",
       "      <td>g</td>\n",
       "    </tr>\n",
       "    <tr>\n",
       "      <th>2</th>\n",
       "      <td>e</td>\n",
       "      <td>b</td>\n",
       "      <td>s</td>\n",
       "      <td>w</td>\n",
       "      <td>t</td>\n",
       "      <td>l</td>\n",
       "      <td>f</td>\n",
       "      <td>c</td>\n",
       "      <td>b</td>\n",
       "      <td>n</td>\n",
       "      <td>...</td>\n",
       "      <td>s</td>\n",
       "      <td>w</td>\n",
       "      <td>w</td>\n",
       "      <td>p</td>\n",
       "      <td>w</td>\n",
       "      <td>o</td>\n",
       "      <td>p</td>\n",
       "      <td>n</td>\n",
       "      <td>n</td>\n",
       "      <td>m</td>\n",
       "    </tr>\n",
       "    <tr>\n",
       "      <th>3</th>\n",
       "      <td>p</td>\n",
       "      <td>x</td>\n",
       "      <td>y</td>\n",
       "      <td>w</td>\n",
       "      <td>t</td>\n",
       "      <td>p</td>\n",
       "      <td>f</td>\n",
       "      <td>c</td>\n",
       "      <td>n</td>\n",
       "      <td>n</td>\n",
       "      <td>...</td>\n",
       "      <td>s</td>\n",
       "      <td>w</td>\n",
       "      <td>w</td>\n",
       "      <td>p</td>\n",
       "      <td>w</td>\n",
       "      <td>o</td>\n",
       "      <td>p</td>\n",
       "      <td>k</td>\n",
       "      <td>s</td>\n",
       "      <td>u</td>\n",
       "    </tr>\n",
       "    <tr>\n",
       "      <th>4</th>\n",
       "      <td>e</td>\n",
       "      <td>x</td>\n",
       "      <td>s</td>\n",
       "      <td>g</td>\n",
       "      <td>f</td>\n",
       "      <td>n</td>\n",
       "      <td>f</td>\n",
       "      <td>w</td>\n",
       "      <td>b</td>\n",
       "      <td>k</td>\n",
       "      <td>...</td>\n",
       "      <td>s</td>\n",
       "      <td>w</td>\n",
       "      <td>w</td>\n",
       "      <td>p</td>\n",
       "      <td>w</td>\n",
       "      <td>o</td>\n",
       "      <td>e</td>\n",
       "      <td>n</td>\n",
       "      <td>a</td>\n",
       "      <td>g</td>\n",
       "    </tr>\n",
       "  </tbody>\n",
       "</table>\n",
       "<p>5 rows × 23 columns</p>\n",
       "</div>"
      ],
      "text/plain": [
       "  class cap-shape cap-surface cap-color bruises odor gill-attachment  \\\n",
       "0     p         x           s         n       t    p               f   \n",
       "1     e         x           s         y       t    a               f   \n",
       "2     e         b           s         w       t    l               f   \n",
       "3     p         x           y         w       t    p               f   \n",
       "4     e         x           s         g       f    n               f   \n",
       "\n",
       "  gill-spacing gill-size gill-color  ... stalk-surface-below-ring  \\\n",
       "0            c         n          k  ...                        s   \n",
       "1            c         b          k  ...                        s   \n",
       "2            c         b          n  ...                        s   \n",
       "3            c         n          n  ...                        s   \n",
       "4            w         b          k  ...                        s   \n",
       "\n",
       "  stalk-color-above-ring stalk-color-below-ring veil-type veil-color  \\\n",
       "0                      w                      w         p          w   \n",
       "1                      w                      w         p          w   \n",
       "2                      w                      w         p          w   \n",
       "3                      w                      w         p          w   \n",
       "4                      w                      w         p          w   \n",
       "\n",
       "  ring-number ring-type spore-print-color population habitat  \n",
       "0           o         p                 k          s       u  \n",
       "1           o         p                 n          n       g  \n",
       "2           o         p                 n          n       m  \n",
       "3           o         p                 k          s       u  \n",
       "4           o         e                 n          a       g  \n",
       "\n",
       "[5 rows x 23 columns]"
      ]
     },
     "execution_count": 3,
     "metadata": {},
     "output_type": "execute_result"
    }
   ],
   "source": [
    "df.head()"
   ]
  },
  {
   "cell_type": "code",
   "execution_count": 4,
   "metadata": {},
   "outputs": [
    {
     "name": "stdout",
     "output_type": "stream",
     "text": [
      "<class 'pandas.core.frame.DataFrame'>\n",
      "RangeIndex: 8124 entries, 0 to 8123\n",
      "Data columns (total 23 columns):\n",
      " #   Column                    Non-Null Count  Dtype \n",
      "---  ------                    --------------  ----- \n",
      " 0   class                     8124 non-null   object\n",
      " 1   cap-shape                 8124 non-null   object\n",
      " 2   cap-surface               8124 non-null   object\n",
      " 3   cap-color                 8124 non-null   object\n",
      " 4   bruises                   8124 non-null   object\n",
      " 5   odor                      8124 non-null   object\n",
      " 6   gill-attachment           8124 non-null   object\n",
      " 7   gill-spacing              8124 non-null   object\n",
      " 8   gill-size                 8124 non-null   object\n",
      " 9   gill-color                8124 non-null   object\n",
      " 10  stalk-shape               8124 non-null   object\n",
      " 11  stalk-root                8124 non-null   object\n",
      " 12  stalk-surface-above-ring  8124 non-null   object\n",
      " 13  stalk-surface-below-ring  8124 non-null   object\n",
      " 14  stalk-color-above-ring    8124 non-null   object\n",
      " 15  stalk-color-below-ring    8124 non-null   object\n",
      " 16  veil-type                 8124 non-null   object\n",
      " 17  veil-color                8124 non-null   object\n",
      " 18  ring-number               8124 non-null   object\n",
      " 19  ring-type                 8124 non-null   object\n",
      " 20  spore-print-color         8124 non-null   object\n",
      " 21  population                8124 non-null   object\n",
      " 22  habitat                   8124 non-null   object\n",
      "dtypes: object(23)\n",
      "memory usage: 1.4+ MB\n"
     ]
    }
   ],
   "source": [
    "df.info()"
   ]
  },
  {
   "cell_type": "code",
   "execution_count": 5,
   "metadata": {},
   "outputs": [
    {
     "data": {
      "text/html": [
       "<div>\n",
       "<style scoped>\n",
       "    .dataframe tbody tr th:only-of-type {\n",
       "        vertical-align: middle;\n",
       "    }\n",
       "\n",
       "    .dataframe tbody tr th {\n",
       "        vertical-align: top;\n",
       "    }\n",
       "\n",
       "    .dataframe thead th {\n",
       "        text-align: right;\n",
       "    }\n",
       "</style>\n",
       "<table border=\"1\" class=\"dataframe\">\n",
       "  <thead>\n",
       "    <tr style=\"text-align: right;\">\n",
       "      <th></th>\n",
       "      <th>class</th>\n",
       "      <th>cap-shape</th>\n",
       "      <th>cap-surface</th>\n",
       "      <th>cap-color</th>\n",
       "      <th>bruises</th>\n",
       "      <th>odor</th>\n",
       "      <th>gill-attachment</th>\n",
       "      <th>gill-spacing</th>\n",
       "      <th>gill-size</th>\n",
       "      <th>gill-color</th>\n",
       "      <th>...</th>\n",
       "      <th>stalk-surface-below-ring</th>\n",
       "      <th>stalk-color-above-ring</th>\n",
       "      <th>stalk-color-below-ring</th>\n",
       "      <th>veil-type</th>\n",
       "      <th>veil-color</th>\n",
       "      <th>ring-number</th>\n",
       "      <th>ring-type</th>\n",
       "      <th>spore-print-color</th>\n",
       "      <th>population</th>\n",
       "      <th>habitat</th>\n",
       "    </tr>\n",
       "  </thead>\n",
       "  <tbody>\n",
       "    <tr>\n",
       "      <th>count</th>\n",
       "      <td>8124</td>\n",
       "      <td>8124</td>\n",
       "      <td>8124</td>\n",
       "      <td>8124</td>\n",
       "      <td>8124</td>\n",
       "      <td>8124</td>\n",
       "      <td>8124</td>\n",
       "      <td>8124</td>\n",
       "      <td>8124</td>\n",
       "      <td>8124</td>\n",
       "      <td>...</td>\n",
       "      <td>8124</td>\n",
       "      <td>8124</td>\n",
       "      <td>8124</td>\n",
       "      <td>8124</td>\n",
       "      <td>8124</td>\n",
       "      <td>8124</td>\n",
       "      <td>8124</td>\n",
       "      <td>8124</td>\n",
       "      <td>8124</td>\n",
       "      <td>8124</td>\n",
       "    </tr>\n",
       "    <tr>\n",
       "      <th>unique</th>\n",
       "      <td>2</td>\n",
       "      <td>6</td>\n",
       "      <td>4</td>\n",
       "      <td>10</td>\n",
       "      <td>2</td>\n",
       "      <td>9</td>\n",
       "      <td>2</td>\n",
       "      <td>2</td>\n",
       "      <td>2</td>\n",
       "      <td>12</td>\n",
       "      <td>...</td>\n",
       "      <td>4</td>\n",
       "      <td>9</td>\n",
       "      <td>9</td>\n",
       "      <td>1</td>\n",
       "      <td>4</td>\n",
       "      <td>3</td>\n",
       "      <td>5</td>\n",
       "      <td>9</td>\n",
       "      <td>6</td>\n",
       "      <td>7</td>\n",
       "    </tr>\n",
       "    <tr>\n",
       "      <th>top</th>\n",
       "      <td>e</td>\n",
       "      <td>x</td>\n",
       "      <td>y</td>\n",
       "      <td>n</td>\n",
       "      <td>f</td>\n",
       "      <td>n</td>\n",
       "      <td>f</td>\n",
       "      <td>c</td>\n",
       "      <td>b</td>\n",
       "      <td>b</td>\n",
       "      <td>...</td>\n",
       "      <td>s</td>\n",
       "      <td>w</td>\n",
       "      <td>w</td>\n",
       "      <td>p</td>\n",
       "      <td>w</td>\n",
       "      <td>o</td>\n",
       "      <td>p</td>\n",
       "      <td>w</td>\n",
       "      <td>v</td>\n",
       "      <td>d</td>\n",
       "    </tr>\n",
       "    <tr>\n",
       "      <th>freq</th>\n",
       "      <td>4208</td>\n",
       "      <td>3656</td>\n",
       "      <td>3244</td>\n",
       "      <td>2284</td>\n",
       "      <td>4748</td>\n",
       "      <td>3528</td>\n",
       "      <td>7914</td>\n",
       "      <td>6812</td>\n",
       "      <td>5612</td>\n",
       "      <td>1728</td>\n",
       "      <td>...</td>\n",
       "      <td>4936</td>\n",
       "      <td>4464</td>\n",
       "      <td>4384</td>\n",
       "      <td>8124</td>\n",
       "      <td>7924</td>\n",
       "      <td>7488</td>\n",
       "      <td>3968</td>\n",
       "      <td>2388</td>\n",
       "      <td>4040</td>\n",
       "      <td>3148</td>\n",
       "    </tr>\n",
       "  </tbody>\n",
       "</table>\n",
       "<p>4 rows × 23 columns</p>\n",
       "</div>"
      ],
      "text/plain": [
       "       class cap-shape cap-surface cap-color bruises  odor gill-attachment  \\\n",
       "count   8124      8124        8124      8124    8124  8124            8124   \n",
       "unique     2         6           4        10       2     9               2   \n",
       "top        e         x           y         n       f     n               f   \n",
       "freq    4208      3656        3244      2284    4748  3528            7914   \n",
       "\n",
       "       gill-spacing gill-size gill-color  ... stalk-surface-below-ring  \\\n",
       "count          8124      8124       8124  ...                     8124   \n",
       "unique            2         2         12  ...                        4   \n",
       "top               c         b          b  ...                        s   \n",
       "freq           6812      5612       1728  ...                     4936   \n",
       "\n",
       "       stalk-color-above-ring stalk-color-below-ring veil-type veil-color  \\\n",
       "count                    8124                   8124      8124       8124   \n",
       "unique                      9                      9         1          4   \n",
       "top                         w                      w         p          w   \n",
       "freq                     4464                   4384      8124       7924   \n",
       "\n",
       "       ring-number ring-type spore-print-color population habitat  \n",
       "count         8124      8124              8124       8124    8124  \n",
       "unique           3         5                 9          6       7  \n",
       "top              o         p                 w          v       d  \n",
       "freq          7488      3968              2388       4040    3148  \n",
       "\n",
       "[4 rows x 23 columns]"
      ]
     },
     "execution_count": 5,
     "metadata": {},
     "output_type": "execute_result"
    }
   ],
   "source": [
    "df.describe()"
   ]
  },
  {
   "cell_type": "code",
   "execution_count": 6,
   "metadata": {},
   "outputs": [
    {
     "data": {
      "text/plain": [
       "(8124, 23)"
      ]
     },
     "execution_count": 6,
     "metadata": {},
     "output_type": "execute_result"
    }
   ],
   "source": [
    "df.shape"
   ]
  },
  {
   "cell_type": "code",
   "execution_count": 7,
   "metadata": {},
   "outputs": [
    {
     "name": "stdout",
     "output_type": "stream",
     "text": [
      "There are 8,124 rows and 23 columns in our data\n"
     ]
    }
   ],
   "source": [
    "print(\"There are {:,} rows \".format(df.shape[0]) + \"and {} columns in our data\".format(df.shape[1]))"
   ]
  },
  {
   "cell_type": "code",
   "execution_count": 8,
   "metadata": {},
   "outputs": [
    {
     "data": {
      "text/plain": [
       "e    4208\n",
       "p    3916\n",
       "Name: class, dtype: int64"
      ]
     },
     "execution_count": 8,
     "metadata": {},
     "output_type": "execute_result"
    }
   ],
   "source": [
    "df['class'].value_counts()"
   ]
  },
  {
   "cell_type": "code",
   "execution_count": 9,
   "metadata": {},
   "outputs": [
    {
     "data": {
      "text/plain": [
       "array(['p', 'e'], dtype=object)"
      ]
     },
     "execution_count": 9,
     "metadata": {},
     "output_type": "execute_result"
    }
   ],
   "source": [
    "df[\"class\"].unique()"
   ]
  },
  {
   "cell_type": "code",
   "execution_count": 10,
   "metadata": {},
   "outputs": [
    {
     "name": "stderr",
     "output_type": "stream",
     "text": [
      "C:\\Users\\DELL\\anaconda3\\lib\\site-packages\\seaborn\\_decorators.py:36: FutureWarning: Pass the following variables as keyword args: x, y. From version 0.12, the only valid positional argument will be `data`, and passing other arguments without an explicit keyword will result in an error or misinterpretation.\n",
      "  warnings.warn(\n"
     ]
    },
    {
     "data": {
      "image/png": "[encoded data removed]",
      "text/plain": [
       "<Figure size 432x360 with 1 Axes>"
      ]
     },
     "metadata": {
      "needs_background": "light"
     },
     "output_type": "display_data"
    }
   ],
   "source": [
    "count = df['class'].value_counts()\n",
    "plt.figure(figsize=(6,5))\n",
    "sns.barplot(count.index, count.values, alpha=0.8, palette=\"flare\")\n",
    "plt.ylabel('Count', fontsize=10)\n",
    "plt.xlabel('Class', fontsize=10)\n",
    "plt.title('Number of poisonous/edible mushrooms')\n",
    "plt.show()"
   ]
  },
  {
   "cell_type": "markdown",
   "metadata": {},
   "source": [
    "From above we can say the data is balanced"
   ]
  },
  {
   "cell_type": "markdown",
   "metadata": {},
   "source": [
    "Now, as we know the data is categorical so we wil use LabelEncoder to convert it to ordinal."
   ]
  },
  {
   "cell_type": "code",
   "execution_count": 11,
   "metadata": {},
   "outputs": [],
   "source": [
    "df = df.astype('category')"
   ]
  },
  {
   "cell_type": "code",
   "execution_count": 12,
   "metadata": {},
   "outputs": [
    {
     "data": {
      "text/plain": [
       "class                       category\n",
       "cap-shape                   category\n",
       "cap-surface                 category\n",
       "cap-color                   category\n",
       "bruises                     category\n",
       "odor                        category\n",
       "gill-attachment             category\n",
       "gill-spacing                category\n",
       "gill-size                   category\n",
       "gill-color                  category\n",
       "stalk-shape                 category\n",
       "stalk-root                  category\n",
       "stalk-surface-above-ring    category\n",
       "stalk-surface-below-ring    category\n",
       "stalk-color-above-ring      category\n",
       "stalk-color-below-ring      category\n",
       "veil-type                   category\n",
       "veil-color                  category\n",
       "ring-number                 category\n",
       "ring-type                   category\n",
       "spore-print-color           category\n",
       "population                  category\n",
       "habitat                     category\n",
       "dtype: object"
      ]
     },
     "execution_count": 12,
     "metadata": {},
     "output_type": "execute_result"
    }
   ],
   "source": [
    "df.dtypes"
   ]
  },
  {
   "cell_type": "code",
   "execution_count": 13,
   "metadata": {},
   "outputs": [],
   "source": [
    "labelencoder=LabelEncoder()\n",
    "for column in df.columns:\n",
    "    df[column] = labelencoder.fit_transform(df[column])"
   ]
  },
  {
   "cell_type": "code",
   "execution_count": 14,
   "metadata": {},
   "outputs": [
    {
     "data": {
      "text/html": [
       "<div>\n",
       "<style scoped>\n",
       "    .dataframe tbody tr th:only-of-type {\n",
       "        vertical-align: middle;\n",
       "    }\n",
       "\n",
       "    .dataframe tbody tr th {\n",
       "        vertical-align: top;\n",
       "    }\n",
       "\n",
       "    .dataframe thead th {\n",
       "        text-align: right;\n",
       "    }\n",
       "</style>\n",
       "<table border=\"1\" class=\"dataframe\">\n",
       "  <thead>\n",
       "    <tr style=\"text-align: right;\">\n",
       "      <th></th>\n",
       "      <th>class</th>\n",
       "      <th>cap-shape</th>\n",
       "      <th>cap-surface</th>\n",
       "      <th>cap-color</th>\n",
       "      <th>bruises</th>\n",
       "      <th>odor</th>\n",
       "      <th>gill-attachment</th>\n",
       "      <th>gill-spacing</th>\n",
       "      <th>gill-size</th>\n",
       "      <th>gill-color</th>\n",
       "      <th>...</th>\n",
       "      <th>stalk-surface-below-ring</th>\n",
       "      <th>stalk-color-above-ring</th>\n",
       "      <th>stalk-color-below-ring</th>\n",
       "      <th>veil-type</th>\n",
       "      <th>veil-color</th>\n",
       "      <th>ring-number</th>\n",
       "      <th>ring-type</th>\n",
       "      <th>spore-print-color</th>\n",
       "      <th>population</th>\n",
       "      <th>habitat</th>\n",
       "    </tr>\n",
       "  </thead>\n",
       "  <tbody>\n",
       "    <tr>\n",
       "      <th>0</th>\n",
       "      <td>1</td>\n",
       "      <td>5</td>\n",
       "      <td>2</td>\n",
       "      <td>4</td>\n",
       "      <td>1</td>\n",
       "      <td>6</td>\n",
       "      <td>1</td>\n",
       "      <td>0</td>\n",
       "      <td>1</td>\n",
       "      <td>4</td>\n",
       "      <td>...</td>\n",
       "      <td>2</td>\n",
       "      <td>7</td>\n",
       "      <td>7</td>\n",
       "      <td>0</td>\n",
       "      <td>2</td>\n",
       "      <td>1</td>\n",
       "      <td>4</td>\n",
       "      <td>2</td>\n",
       "      <td>3</td>\n",
       "      <td>5</td>\n",
       "    </tr>\n",
       "    <tr>\n",
       "      <th>1</th>\n",
       "      <td>0</td>\n",
       "      <td>5</td>\n",
       "      <td>2</td>\n",
       "      <td>9</td>\n",
       "      <td>1</td>\n",
       "      <td>0</td>\n",
       "      <td>1</td>\n",
       "      <td>0</td>\n",
       "      <td>0</td>\n",
       "      <td>4</td>\n",
       "      <td>...</td>\n",
       "      <td>2</td>\n",
       "      <td>7</td>\n",
       "      <td>7</td>\n",
       "      <td>0</td>\n",
       "      <td>2</td>\n",
       "      <td>1</td>\n",
       "      <td>4</td>\n",
       "      <td>3</td>\n",
       "      <td>2</td>\n",
       "      <td>1</td>\n",
       "    </tr>\n",
       "    <tr>\n",
       "      <th>2</th>\n",
       "      <td>0</td>\n",
       "      <td>0</td>\n",
       "      <td>2</td>\n",
       "      <td>8</td>\n",
       "      <td>1</td>\n",
       "      <td>3</td>\n",
       "      <td>1</td>\n",
       "      <td>0</td>\n",
       "      <td>0</td>\n",
       "      <td>5</td>\n",
       "      <td>...</td>\n",
       "      <td>2</td>\n",
       "      <td>7</td>\n",
       "      <td>7</td>\n",
       "      <td>0</td>\n",
       "      <td>2</td>\n",
       "      <td>1</td>\n",
       "      <td>4</td>\n",
       "      <td>3</td>\n",
       "      <td>2</td>\n",
       "      <td>3</td>\n",
       "    </tr>\n",
       "    <tr>\n",
       "      <th>3</th>\n",
       "      <td>1</td>\n",
       "      <td>5</td>\n",
       "      <td>3</td>\n",
       "      <td>8</td>\n",
       "      <td>1</td>\n",
       "      <td>6</td>\n",
       "      <td>1</td>\n",
       "      <td>0</td>\n",
       "      <td>1</td>\n",
       "      <td>5</td>\n",
       "      <td>...</td>\n",
       "      <td>2</td>\n",
       "      <td>7</td>\n",
       "      <td>7</td>\n",
       "      <td>0</td>\n",
       "      <td>2</td>\n",
       "      <td>1</td>\n",
       "      <td>4</td>\n",
       "      <td>2</td>\n",
       "      <td>3</td>\n",
       "      <td>5</td>\n",
       "    </tr>\n",
       "    <tr>\n",
       "      <th>4</th>\n",
       "      <td>0</td>\n",
       "      <td>5</td>\n",
       "      <td>2</td>\n",
       "      <td>3</td>\n",
       "      <td>0</td>\n",
       "      <td>5</td>\n",
       "      <td>1</td>\n",
       "      <td>1</td>\n",
       "      <td>0</td>\n",
       "      <td>4</td>\n",
       "      <td>...</td>\n",
       "      <td>2</td>\n",
       "      <td>7</td>\n",
       "      <td>7</td>\n",
       "      <td>0</td>\n",
       "      <td>2</td>\n",
       "      <td>1</td>\n",
       "      <td>0</td>\n",
       "      <td>3</td>\n",
       "      <td>0</td>\n",
       "      <td>1</td>\n",
       "    </tr>\n",
       "  </tbody>\n",
       "</table>\n",
       "<p>5 rows × 23 columns</p>\n",
       "</div>"
      ],
      "text/plain": [
       "   class  cap-shape  cap-surface  cap-color  bruises  odor  gill-attachment  \\\n",
       "0      1          5            2          4        1     6                1   \n",
       "1      0          5            2          9        1     0                1   \n",
       "2      0          0            2          8        1     3                1   \n",
       "3      1          5            3          8        1     6                1   \n",
       "4      0          5            2          3        0     5                1   \n",
       "\n",
       "   gill-spacing  gill-size  gill-color  ...  stalk-surface-below-ring  \\\n",
       "0             0          1           4  ...                         2   \n",
       "1             0          0           4  ...                         2   \n",
       "2             0          0           5  ...                         2   \n",
       "3             0          1           5  ...                         2   \n",
       "4             1          0           4  ...                         2   \n",
       "\n",
       "   stalk-color-above-ring  stalk-color-below-ring  veil-type  veil-color  \\\n",
       "0                       7                       7          0           2   \n",
       "1                       7                       7          0           2   \n",
       "2                       7                       7          0           2   \n",
       "3                       7                       7          0           2   \n",
       "4                       7                       7          0           2   \n",
       "\n",
       "   ring-number  ring-type  spore-print-color  population  habitat  \n",
       "0            1          4                  2           3        5  \n",
       "1            1          4                  3           2        1  \n",
       "2            1          4                  3           2        3  \n",
       "3            1          4                  2           3        5  \n",
       "4            1          0                  3           0        1  \n",
       "\n",
       "[5 rows x 23 columns]"
      ]
     },
     "execution_count": 14,
     "metadata": {},
     "output_type": "execute_result"
    }
   ],
   "source": [
    "df.head()"
   ]
  },
  {
   "cell_type": "markdown",
   "metadata": {},
   "source": [
    "Now the data with no contribution or not required we can remove it."
   ]
  },
  {
   "cell_type": "code",
   "execution_count": 15,
   "metadata": {},
   "outputs": [
    {
     "data": {
      "text/plain": [
       "0       0\n",
       "1       0\n",
       "2       0\n",
       "3       0\n",
       "4       0\n",
       "       ..\n",
       "8119    0\n",
       "8120    0\n",
       "8121    0\n",
       "8122    0\n",
       "8123    0\n",
       "Name: veil-type, Length: 8124, dtype: int32"
      ]
     },
     "execution_count": 15,
     "metadata": {},
     "output_type": "execute_result"
    }
   ],
   "source": [
    "df['veil-type']"
   ]
  },
  {
   "cell_type": "code",
   "execution_count": 16,
   "metadata": {},
   "outputs": [],
   "source": [
    "df = df.drop(['veil-type'],axis=1)"
   ]
  },
  {
   "cell_type": "code",
   "execution_count": 17,
   "metadata": {},
   "outputs": [
    {
     "data": {
      "image/png": "[encoded data removed]",
      "text/plain": [
       "<Figure size 1152x432 with 1 Axes>"
      ]
     },
     "metadata": {
      "needs_background": "light"
     },
     "output_type": "display_data"
    }
   ],
   "source": [
    "df_div = pd.melt(df, \"class\", var_name=\"Characteristics\")\n",
    "fig, ax = plt.subplots(figsize=(16,6))\n",
    "ax = sns.boxplot(x=\"Characteristics\", y=\"value\", hue=\"class\",\n",
    "\n",
    "                 data = df_div, palette=\"prism\")\n",
    "df_no_class = df.drop([\"class\"],axis = 1)\n",
    "ax.set_xticklabels(rotation = 90, labels = list(df_no_class.columns));"
   ]
  },
  {
   "cell_type": "markdown",
   "metadata": {},
   "source": [
    "The box plot above represents the distribution of the classification characteristics. It is possible to see that the \"gill colour\" property of the mushroom property in two boxes, one is great above 3 and other is great below 3 that may contribute to the classification."
   ]
  },
  {
   "cell_type": "markdown",
   "metadata": {},
   "source": [
    "Now we will find the correlations between the variables."
   ]
  },
  {
   "cell_type": "code",
   "execution_count": 18,
   "metadata": {},
   "outputs": [
    {
     "data": {
      "image/png": "[encoded data removed]",
      "text/plain": [
       "<Figure size 1008x864 with 2 Axes>"
      ]
     },
     "metadata": {
      "needs_background": "light"
     },
     "output_type": "display_data"
    }
   ],
   "source": [
    "plt.figure(figsize=(14,12))\n",
    "sns.heatmap(df.corr(),linewidth=1 , cmap = \"Blues\", annot = True, annot_kws={\"size\": 7})\n",
    "plt.yticks(rotation = 0);"
   ]
  },
  {
   "cell_type": "markdown",
   "metadata": {},
   "source": [
    "The least correlating variable is theimportant one for classification and in our case the \"gill-color\" has -0.53."
   ]
  },
  {
   "cell_type": "code",
   "execution_count": 19,
   "metadata": {},
   "outputs": [
    {
     "data": {
      "text/html": [
       "<div>\n",
       "<style scoped>\n",
       "    .dataframe tbody tr th:only-of-type {\n",
       "        vertical-align: middle;\n",
       "    }\n",
       "\n",
       "    .dataframe tbody tr th {\n",
       "        vertical-align: top;\n",
       "    }\n",
       "\n",
       "    .dataframe thead th {\n",
       "        text-align: right;\n",
       "    }\n",
       "</style>\n",
       "<table border=\"1\" class=\"dataframe\">\n",
       "  <thead>\n",
       "    <tr style=\"text-align: right;\">\n",
       "      <th></th>\n",
       "      <th>gill-color</th>\n",
       "      <th>class</th>\n",
       "    </tr>\n",
       "  </thead>\n",
       "  <tbody>\n",
       "    <tr>\n",
       "      <th>0</th>\n",
       "      <td>0</td>\n",
       "      <td>1.000000</td>\n",
       "    </tr>\n",
       "    <tr>\n",
       "      <th>8</th>\n",
       "      <td>8</td>\n",
       "      <td>1.000000</td>\n",
       "    </tr>\n",
       "    <tr>\n",
       "      <th>3</th>\n",
       "      <td>3</td>\n",
       "      <td>0.721311</td>\n",
       "    </tr>\n",
       "    <tr>\n",
       "      <th>2</th>\n",
       "      <td>2</td>\n",
       "      <td>0.670213</td>\n",
       "    </tr>\n",
       "    <tr>\n",
       "      <th>7</th>\n",
       "      <td>7</td>\n",
       "      <td>0.428954</td>\n",
       "    </tr>\n",
       "    <tr>\n",
       "      <th>11</th>\n",
       "      <td>11</td>\n",
       "      <td>0.255814</td>\n",
       "    </tr>\n",
       "    <tr>\n",
       "      <th>10</th>\n",
       "      <td>10</td>\n",
       "      <td>0.204659</td>\n",
       "    </tr>\n",
       "    <tr>\n",
       "      <th>4</th>\n",
       "      <td>4</td>\n",
       "      <td>0.156863</td>\n",
       "    </tr>\n",
       "    <tr>\n",
       "      <th>5</th>\n",
       "      <td>5</td>\n",
       "      <td>0.106870</td>\n",
       "    </tr>\n",
       "    <tr>\n",
       "      <th>9</th>\n",
       "      <td>9</td>\n",
       "      <td>0.097561</td>\n",
       "    </tr>\n",
       "    <tr>\n",
       "      <th>1</th>\n",
       "      <td>1</td>\n",
       "      <td>0.000000</td>\n",
       "    </tr>\n",
       "    <tr>\n",
       "      <th>6</th>\n",
       "      <td>6</td>\n",
       "      <td>0.000000</td>\n",
       "    </tr>\n",
       "  </tbody>\n",
       "</table>\n",
       "</div>"
      ],
      "text/plain": [
       "    gill-color     class\n",
       "0            0  1.000000\n",
       "8            8  1.000000\n",
       "3            3  0.721311\n",
       "2            2  0.670213\n",
       "7            7  0.428954\n",
       "11          11  0.255814\n",
       "10          10  0.204659\n",
       "4            4  0.156863\n",
       "5            5  0.106870\n",
       "9            9  0.097561\n",
       "1            1  0.000000\n",
       "6            6  0.000000"
      ]
     },
     "execution_count": 19,
     "metadata": {},
     "output_type": "execute_result"
    }
   ],
   "source": [
    "df[['class', 'gill-color']].groupby(['gill-color'], as_index=False).mean().sort_values(by='class',ascending=False)"
   ]
  },
  {
   "cell_type": "code",
   "execution_count": 20,
   "metadata": {},
   "outputs": [
    {
     "name": "stderr",
     "output_type": "stream",
     "text": [
      "C:\\Users\\DELL\\anaconda3\\lib\\site-packages\\seaborn\\categorical.py:3704: UserWarning: The `factorplot` function has been renamed to `catplot`. The original name will be removed in a future release. Please update your code. Note that the default `kind` in `factorplot` (`'point'`) has changed `'strip'` in `catplot`.\n",
      "  warnings.warn(msg)\n",
      "C:\\Users\\DELL\\anaconda3\\lib\\site-packages\\seaborn\\categorical.py:3710: UserWarning: The `size` parameter has been renamed to `height`; please update your code.\n",
      "  warnings.warn(msg, UserWarning)\n",
      "C:\\Users\\DELL\\anaconda3\\lib\\site-packages\\seaborn\\_decorators.py:36: FutureWarning: Pass the following variable as a keyword arg: x. From version 0.12, the only valid positional argument will be `data`, and passing other arguments without an explicit keyword will result in an error or misinterpretation.\n",
      "  warnings.warn(\n"
     ]
    },
    {
     "data": {
      "image/png": "[encoded data removed]",
      "text/plain": [
       "<Figure size 1036.8x324 with 4 Axes>"
      ]
     },
     "metadata": {
      "needs_background": "light"
     },
     "output_type": "display_data"
    }
   ],
   "source": [
    "new_var = df[['class' , 'gill-color']]\n",
    "new_var = new_var[new_var['gill-color']<=3.5]\n",
    "sns.factorplot('class', col = 'gill-color', data=new_var, kind='count', size=4.5, aspect=.8, col_wrap=4);"
   ]
  },
  {
   "cell_type": "code",
   "execution_count": 21,
   "metadata": {},
   "outputs": [
    {
     "name": "stderr",
     "output_type": "stream",
     "text": [
      "C:\\Users\\DELL\\anaconda3\\lib\\site-packages\\seaborn\\categorical.py:3704: UserWarning: The `factorplot` function has been renamed to `catplot`. The original name will be removed in a future release. Please update your code. Note that the default `kind` in `factorplot` (`'point'`) has changed `'strip'` in `catplot`.\n",
      "  warnings.warn(msg)\n",
      "C:\\Users\\DELL\\anaconda3\\lib\\site-packages\\seaborn\\categorical.py:3710: UserWarning: The `size` parameter has been renamed to `height`; please update your code.\n",
      "  warnings.warn(msg, UserWarning)\n",
      "C:\\Users\\DELL\\anaconda3\\lib\\site-packages\\seaborn\\_decorators.py:36: FutureWarning: Pass the following variable as a keyword arg: x. From version 0.12, the only valid positional argument will be `data`, and passing other arguments without an explicit keyword will result in an error or misinterpretation.\n",
      "  warnings.warn(\n"
     ]
    },
    {
     "data": {
      "image/png": "[encoded data removed]",
      "text/plain": [
       "<Figure size 1036.8x648 with 8 Axes>"
      ]
     },
     "metadata": {
      "needs_background": "light"
     },
     "output_type": "display_data"
    }
   ],
   "source": [
    "new_var = df[['class' , 'gill-color']]\n",
    "new_var = new_var[new_var['gill-color']>3.5]\n",
    "sns.factorplot('class', col = 'gill-color', data=new_var, kind='count', size=4.5, aspect=.8, col_wrap=4);"
   ]
  },
  {
   "cell_type": "markdown",
   "metadata": {},
   "source": [
    "Now preparing data by setting x and y axis and splitting the data into train and test respectively."
   ]
  },
  {
   "cell_type": "code",
   "execution_count": 22,
   "metadata": {},
   "outputs": [],
   "source": [
    "X = df.drop(['class'], axis=1)\n",
    "Y = df[\"class\"]\n",
    "\n",
    "X_train, X_test, Y_train, Y_test = train_test_split(X, Y, random_state=42, test_size=0.1)"
   ]
  },
  {
   "cell_type": "markdown",
   "metadata": {},
   "source": [
    "Now we apply the classification methods one by one to get the accuracy."
   ]
  },
  {
   "cell_type": "markdown",
   "metadata": {},
   "source": [
    "1.Decision Tree Classification"
   ]
  },
  {
   "cell_type": "code",
   "execution_count": 23,
   "metadata": {},
   "outputs": [
    {
     "data": {
      "text/plain": [
       "DecisionTreeClassifier()"
      ]
     },
     "execution_count": 23,
     "metadata": {},
     "output_type": "execute_result"
    }
   ],
   "source": [
    "from sklearn.tree import DecisionTreeClassifier\n",
    "dt = DecisionTreeClassifier()\n",
    "dt.fit(X_train, Y_train)"
   ]
  },
  {
   "cell_type": "code",
   "execution_count": 24,
   "metadata": {},
   "outputs": [
    {
     "data": {
      "image/svg+xml": [
       "<?xml version=\"1.0\" encoding=\"UTF-8\" standalone=\"no\"?>\r\n",
       "<!DOCTYPE svg PUBLIC \"-//W3C//DTD SVG 1.1//EN\"\r\n",
       " \"http://www.w3.org/Graphics/SVG/1.1/DTD/svg11.dtd\">\r\n",
       "<!-- Generated by graphviz version 2.48.0 (20210717.1556)\r\n",
       " -->\r\n",
       "<!-- Title: Tree Pages: 1 -->\r\n",
       "<svg width=\"1462pt\" height=\"789pt\"\r\n",
       " viewBox=\"0.00 0.00 1462.00 789.00\" xmlns=\"http://www.w3.org/2000/svg\" xmlns:xlink=\"http://www.w3.org/1999/xlink\">\r\n",
       "<g id=\"graph0\" class=\"graph\" transform=\"scale(1 1) rotate(0) translate(4 785)\">\r\n",
       "<title>Tree</title>\r\n",
       "<polygon fill=\"white\" stroke=\"transparent\" points=\"-4,4 -4,-785 1458,-785 1458,4 -4,4\"/>\r\n",
       "<!-- 0 -->\r\n",
       "<g id=\"node1\" class=\"node\">\r\n",
       "<title>0</title>\r\n",
       "<path fill=\"#fdf7f2\" stroke=\"black\" d=\"M641.5,-781C641.5,-781 519.5,-781 519.5,-781 513.5,-781 507.5,-775 507.5,-769 507.5,-769 507.5,-725 507.5,-725 507.5,-719 513.5,-713 519.5,-713 519.5,-713 641.5,-713 641.5,-713 647.5,-713 653.5,-719 653.5,-725 653.5,-725 653.5,-769 653.5,-769 653.5,-775 647.5,-781 641.5,-781\"/>\r\n",
       "<text text-anchor=\"start\" x=\"536\" y=\"-765.8\" font-family=\"Helvetica,sans-Serif\" font-size=\"14.00\">gill&#45;color ≤ 3.5</text>\r\n",
       "<text text-anchor=\"start\" x=\"543\" y=\"-750.8\" font-family=\"Helvetica,sans-Serif\" font-size=\"14.00\">gini = 0.499</text>\r\n",
       "<text text-anchor=\"start\" x=\"529\" y=\"-735.8\" font-family=\"Helvetica,sans-Serif\" font-size=\"14.00\">samples = 7311</text>\r\n",
       "<text text-anchor=\"start\" x=\"515.5\" y=\"-720.8\" font-family=\"Helvetica,sans-Serif\" font-size=\"14.00\">value = [3775, 3536]</text>\r\n",
       "</g>\r\n",
       "<!-- 1 -->\r\n",
       "<g id=\"node2\" class=\"node\">\r\n",
       "<title>1</title>\r\n",
       "<path fill=\"#60b0ea\" stroke=\"black\" d=\"M488.5,-677C488.5,-677 374.5,-677 374.5,-677 368.5,-677 362.5,-671 362.5,-665 362.5,-665 362.5,-621 362.5,-621 362.5,-615 368.5,-609 374.5,-609 374.5,-609 488.5,-609 488.5,-609 494.5,-609 500.5,-615 500.5,-621 500.5,-621 500.5,-665 500.5,-665 500.5,-671 494.5,-677 488.5,-677\"/>\r\n",
       "<text text-anchor=\"start\" x=\"381\" y=\"-661.8\" font-family=\"Helvetica,sans-Serif\" font-size=\"14.00\">population ≤ 3.5</text>\r\n",
       "<text text-anchor=\"start\" x=\"394\" y=\"-646.8\" font-family=\"Helvetica,sans-Serif\" font-size=\"14.00\">gini = 0.275</text>\r\n",
       "<text text-anchor=\"start\" x=\"380\" y=\"-631.8\" font-family=\"Helvetica,sans-Serif\" font-size=\"14.00\">samples = 2971</text>\r\n",
       "<text text-anchor=\"start\" x=\"370.5\" y=\"-616.8\" font-family=\"Helvetica,sans-Serif\" font-size=\"14.00\">value = [488, 2483]</text>\r\n",
       "</g>\r\n",
       "<!-- 0&#45;&gt;1 -->\r\n",
       "<g id=\"edge1\" class=\"edge\">\r\n",
       "<title>0&#45;&gt;1</title>\r\n",
       "<path fill=\"none\" stroke=\"black\" d=\"M532.12,-712.88C518.13,-703.3 502.73,-692.76 488.27,-682.86\"/>\r\n",
       "<polygon fill=\"black\" stroke=\"black\" points=\"490.12,-679.89 479.89,-677.12 486.16,-685.66 490.12,-679.89\"/>\r\n",
       "<text text-anchor=\"middle\" x=\"484.49\" y=\"-698\" font-family=\"Helvetica,sans-Serif\" font-size=\"14.00\">True</text>\r\n",
       "</g>\r\n",
       "<!-- 14 -->\r\n",
       "<g id=\"node15\" class=\"node\">\r\n",
       "<title>14</title>\r\n",
       "<path fill=\"#eda978\" stroke=\"black\" d=\"M792.5,-677C792.5,-677 660.5,-677 660.5,-677 654.5,-677 648.5,-671 648.5,-665 648.5,-665 648.5,-621 648.5,-621 648.5,-615 654.5,-609 660.5,-609 660.5,-609 792.5,-609 792.5,-609 798.5,-609 804.5,-615 804.5,-621 804.5,-621 804.5,-665 804.5,-665 804.5,-671 798.5,-677 792.5,-677\"/>\r\n",
       "<text text-anchor=\"start\" x=\"656.5\" y=\"-661.8\" font-family=\"Helvetica,sans-Serif\" font-size=\"14.00\">spore&#45;print&#45;color ≤ 1.5</text>\r\n",
       "<text text-anchor=\"start\" x=\"689\" y=\"-646.8\" font-family=\"Helvetica,sans-Serif\" font-size=\"14.00\">gini = 0.368</text>\r\n",
       "<text text-anchor=\"start\" x=\"675\" y=\"-631.8\" font-family=\"Helvetica,sans-Serif\" font-size=\"14.00\">samples = 4340</text>\r\n",
       "<text text-anchor=\"start\" x=\"661.5\" y=\"-616.8\" font-family=\"Helvetica,sans-Serif\" font-size=\"14.00\">value = [3287, 1053]</text>\r\n",
       "</g>\r\n",
       "<!-- 0&#45;&gt;14 -->\r\n",
       "<g id=\"edge14\" class=\"edge\">\r\n",
       "<title>0&#45;&gt;14</title>\r\n",
       "<path fill=\"none\" stroke=\"black\" d=\"M627.9,-712.88C641.42,-703.44 656.27,-693.06 670.26,-683.29\"/>\r\n",
       "<polygon fill=\"black\" stroke=\"black\" points=\"672.64,-685.9 678.84,-677.3 668.63,-680.16 672.64,-685.9\"/>\r\n",
       "<text text-anchor=\"middle\" x=\"674.47\" y=\"-698.21\" font-family=\"Helvetica,sans-Serif\" font-size=\"14.00\">False</text>\r\n",
       "</g>\r\n",
       "<!-- 2 -->\r\n",
       "<g id=\"node3\" class=\"node\">\r\n",
       "<title>2</title>\r\n",
       "<path fill=\"#e99356\" stroke=\"black\" d=\"M250.5,-573C250.5,-573 118.5,-573 118.5,-573 112.5,-573 106.5,-567 106.5,-561 106.5,-561 106.5,-517 106.5,-517 106.5,-511 112.5,-505 118.5,-505 118.5,-505 250.5,-505 250.5,-505 256.5,-505 262.5,-511 262.5,-517 262.5,-517 262.5,-561 262.5,-561 262.5,-567 256.5,-573 250.5,-573\"/>\r\n",
       "<text text-anchor=\"start\" x=\"114.5\" y=\"-557.8\" font-family=\"Helvetica,sans-Serif\" font-size=\"14.00\">spore&#45;print&#45;color ≤ 1.5</text>\r\n",
       "<text text-anchor=\"start\" x=\"147\" y=\"-542.8\" font-family=\"Helvetica,sans-Serif\" font-size=\"14.00\">gini = 0.223</text>\r\n",
       "<text text-anchor=\"start\" x=\"137\" y=\"-527.8\" font-family=\"Helvetica,sans-Serif\" font-size=\"14.00\">samples = 525</text>\r\n",
       "<text text-anchor=\"start\" x=\"131.5\" y=\"-512.8\" font-family=\"Helvetica,sans-Serif\" font-size=\"14.00\">value = [458, 67]</text>\r\n",
       "</g>\r\n",
       "<!-- 1&#45;&gt;2 -->\r\n",
       "<g id=\"edge2\" class=\"edge\">\r\n",
       "<title>1&#45;&gt;2</title>\r\n",
       "<path fill=\"none\" stroke=\"black\" d=\"M362.37,-613.45C334.42,-601.91 301.84,-588.46 272.25,-576.24\"/>\r\n",
       "<polygon fill=\"black\" stroke=\"black\" points=\"273.34,-572.9 262.76,-572.32 270.66,-579.37 273.34,-572.9\"/>\r\n",
       "</g>\r\n",
       "<!-- 7 -->\r\n",
       "<g id=\"node8\" class=\"node\">\r\n",
       "<title>7</title>\r\n",
       "<path fill=\"#3b9ee5\" stroke=\"black\" d=\"M484.5,-573C484.5,-573 378.5,-573 378.5,-573 372.5,-573 366.5,-567 366.5,-561 366.5,-561 366.5,-517 366.5,-517 366.5,-511 372.5,-505 378.5,-505 378.5,-505 484.5,-505 484.5,-505 490.5,-505 496.5,-511 496.5,-517 496.5,-517 496.5,-561 496.5,-561 496.5,-567 490.5,-573 484.5,-573\"/>\r\n",
       "<text text-anchor=\"start\" x=\"384.5\" y=\"-557.8\" font-family=\"Helvetica,sans-Serif\" font-size=\"14.00\">stalk&#45;root ≤ 2.0</text>\r\n",
       "<text text-anchor=\"start\" x=\"394\" y=\"-542.8\" font-family=\"Helvetica,sans-Serif\" font-size=\"14.00\">gini = 0.024</text>\r\n",
       "<text text-anchor=\"start\" x=\"380\" y=\"-527.8\" font-family=\"Helvetica,sans-Serif\" font-size=\"14.00\">samples = 2446</text>\r\n",
       "<text text-anchor=\"start\" x=\"374.5\" y=\"-512.8\" font-family=\"Helvetica,sans-Serif\" font-size=\"14.00\">value = [30, 2416]</text>\r\n",
       "</g>\r\n",
       "<!-- 1&#45;&gt;7 -->\r\n",
       "<g id=\"edge7\" class=\"edge\">\r\n",
       "<title>1&#45;&gt;7</title>\r\n",
       "<path fill=\"none\" stroke=\"black\" d=\"M431.5,-608.88C431.5,-600.78 431.5,-591.98 431.5,-583.47\"/>\r\n",
       "<polygon fill=\"black\" stroke=\"black\" points=\"435,-583.3 431.5,-573.3 428,-583.3 435,-583.3\"/>\r\n",
       "</g>\r\n",
       "<!-- 3 -->\r\n",
       "<g id=\"node4\" class=\"node\">\r\n",
       "<title>3</title>\r\n",
       "<path fill=\"#399de5\" stroke=\"black\" d=\"M93,-461.5C93,-461.5 12,-461.5 12,-461.5 6,-461.5 0,-455.5 0,-449.5 0,-449.5 0,-420.5 0,-420.5 0,-414.5 6,-408.5 12,-408.5 12,-408.5 93,-408.5 93,-408.5 99,-408.5 105,-414.5 105,-420.5 105,-420.5 105,-449.5 105,-449.5 105,-455.5 99,-461.5 93,-461.5\"/>\r\n",
       "<text text-anchor=\"start\" x=\"23.5\" y=\"-446.3\" font-family=\"Helvetica,sans-Serif\" font-size=\"14.00\">gini = 0.0</text>\r\n",
       "<text text-anchor=\"start\" x=\"9\" y=\"-431.3\" font-family=\"Helvetica,sans-Serif\" font-size=\"14.00\">samples = 45</text>\r\n",
       "<text text-anchor=\"start\" x=\"8\" y=\"-416.3\" font-family=\"Helvetica,sans-Serif\" font-size=\"14.00\">value = [0, 45]</text>\r\n",
       "</g>\r\n",
       "<!-- 2&#45;&gt;3 -->\r\n",
       "<g id=\"edge3\" class=\"edge\">\r\n",
       "<title>2&#45;&gt;3</title>\r\n",
       "<path fill=\"none\" stroke=\"black\" d=\"M141.64,-504.88C126.27,-493.01 108.98,-479.65 93.75,-467.88\"/>\r\n",
       "<polygon fill=\"black\" stroke=\"black\" points=\"95.58,-464.86 85.53,-461.52 91.3,-470.4 95.58,-464.86\"/>\r\n",
       "</g>\r\n",
       "<!-- 4 -->\r\n",
       "<g id=\"node5\" class=\"node\">\r\n",
       "<title>4</title>\r\n",
       "<path fill=\"#e68743\" stroke=\"black\" d=\"M233.5,-469C233.5,-469 135.5,-469 135.5,-469 129.5,-469 123.5,-463 123.5,-457 123.5,-457 123.5,-413 123.5,-413 123.5,-407 129.5,-401 135.5,-401 135.5,-401 233.5,-401 233.5,-401 239.5,-401 245.5,-407 245.5,-413 245.5,-413 245.5,-457 245.5,-457 245.5,-463 239.5,-469 233.5,-469\"/>\r\n",
       "<text text-anchor=\"start\" x=\"143\" y=\"-453.8\" font-family=\"Helvetica,sans-Serif\" font-size=\"14.00\">gill&#45;size ≤ 0.5</text>\r\n",
       "<text text-anchor=\"start\" x=\"147\" y=\"-438.8\" font-family=\"Helvetica,sans-Serif\" font-size=\"14.00\">gini = 0.087</text>\r\n",
       "<text text-anchor=\"start\" x=\"137\" y=\"-423.8\" font-family=\"Helvetica,sans-Serif\" font-size=\"14.00\">samples = 480</text>\r\n",
       "<text text-anchor=\"start\" x=\"131.5\" y=\"-408.8\" font-family=\"Helvetica,sans-Serif\" font-size=\"14.00\">value = [458, 22]</text>\r\n",
       "</g>\r\n",
       "<!-- 2&#45;&gt;4 -->\r\n",
       "<g id=\"edge4\" class=\"edge\">\r\n",
       "<title>2&#45;&gt;4</title>\r\n",
       "<path fill=\"none\" stroke=\"black\" d=\"M184.5,-504.88C184.5,-496.78 184.5,-487.98 184.5,-479.47\"/>\r\n",
       "<polygon fill=\"black\" stroke=\"black\" points=\"188,-479.3 184.5,-469.3 181,-479.3 188,-479.3\"/>\r\n",
       "</g>\r\n",
       "<!-- 5 -->\r\n",
       "<g id=\"node6\" class=\"node\">\r\n",
       "<title>5</title>\r\n",
       "<path fill=\"#e58139\" stroke=\"black\" d=\"M114,-357.5C114,-357.5 25,-357.5 25,-357.5 19,-357.5 13,-351.5 13,-345.5 13,-345.5 13,-316.5 13,-316.5 13,-310.5 19,-304.5 25,-304.5 25,-304.5 114,-304.5 114,-304.5 120,-304.5 126,-310.5 126,-316.5 126,-316.5 126,-345.5 126,-345.5 126,-351.5 120,-357.5 114,-357.5\"/>\r\n",
       "<text text-anchor=\"start\" x=\"40.5\" y=\"-342.3\" font-family=\"Helvetica,sans-Serif\" font-size=\"14.00\">gini = 0.0</text>\r\n",
       "<text text-anchor=\"start\" x=\"22\" y=\"-327.3\" font-family=\"Helvetica,sans-Serif\" font-size=\"14.00\">samples = 458</text>\r\n",
       "<text text-anchor=\"start\" x=\"21\" y=\"-312.3\" font-family=\"Helvetica,sans-Serif\" font-size=\"14.00\">value = [458, 0]</text>\r\n",
       "</g>\r\n",
       "<!-- 4&#45;&gt;5 -->\r\n",
       "<g id=\"edge5\" class=\"edge\">\r\n",
       "<title>4&#45;&gt;5</title>\r\n",
       "<path fill=\"none\" stroke=\"black\" d=\"M147.16,-400.88C133.9,-389.12 118.99,-375.89 105.81,-364.2\"/>\r\n",
       "<polygon fill=\"black\" stroke=\"black\" points=\"108.08,-361.54 98.27,-357.52 103.43,-366.77 108.08,-361.54\"/>\r\n",
       "</g>\r\n",
       "<!-- 6 -->\r\n",
       "<g id=\"node7\" class=\"node\">\r\n",
       "<title>6</title>\r\n",
       "<path fill=\"#399de5\" stroke=\"black\" d=\"M237,-357.5C237,-357.5 156,-357.5 156,-357.5 150,-357.5 144,-351.5 144,-345.5 144,-345.5 144,-316.5 144,-316.5 144,-310.5 150,-304.5 156,-304.5 156,-304.5 237,-304.5 237,-304.5 243,-304.5 249,-310.5 249,-316.5 249,-316.5 249,-345.5 249,-345.5 249,-351.5 243,-357.5 237,-357.5\"/>\r\n",
       "<text text-anchor=\"start\" x=\"167.5\" y=\"-342.3\" font-family=\"Helvetica,sans-Serif\" font-size=\"14.00\">gini = 0.0</text>\r\n",
       "<text text-anchor=\"start\" x=\"153\" y=\"-327.3\" font-family=\"Helvetica,sans-Serif\" font-size=\"14.00\">samples = 22</text>\r\n",
       "<text text-anchor=\"start\" x=\"152\" y=\"-312.3\" font-family=\"Helvetica,sans-Serif\" font-size=\"14.00\">value = [0, 22]</text>\r\n",
       "</g>\r\n",
       "<!-- 4&#45;&gt;6 -->\r\n",
       "<g id=\"edge6\" class=\"edge\">\r\n",
       "<title>4&#45;&gt;6</title>\r\n",
       "<path fill=\"none\" stroke=\"black\" d=\"M188.4,-400.88C189.65,-390.22 191.05,-378.35 192.32,-367.52\"/>\r\n",
       "<polygon fill=\"black\" stroke=\"black\" points=\"195.81,-367.86 193.5,-357.52 188.85,-367.04 195.81,-367.86\"/>\r\n",
       "</g>\r\n",
       "<!-- 8 -->\r\n",
       "<g id=\"node9\" class=\"node\">\r\n",
       "<title>8</title>\r\n",
       "<path fill=\"#3a9de5\" stroke=\"black\" d=\"M453.5,-469C453.5,-469 275.5,-469 275.5,-469 269.5,-469 263.5,-463 263.5,-457 263.5,-457 263.5,-413 263.5,-413 263.5,-407 269.5,-401 275.5,-401 275.5,-401 453.5,-401 453.5,-401 459.5,-401 465.5,-407 465.5,-413 465.5,-413 465.5,-457 465.5,-457 465.5,-463 459.5,-469 453.5,-469\"/>\r\n",
       "<text text-anchor=\"start\" x=\"271.5\" y=\"-453.8\" font-family=\"Helvetica,sans-Serif\" font-size=\"14.00\">stalk&#45;surface&#45;below&#45;ring ≤ 0.5</text>\r\n",
       "<text text-anchor=\"start\" x=\"327\" y=\"-438.8\" font-family=\"Helvetica,sans-Serif\" font-size=\"14.00\">gini = 0.009</text>\r\n",
       "<text text-anchor=\"start\" x=\"313\" y=\"-423.8\" font-family=\"Helvetica,sans-Serif\" font-size=\"14.00\">samples = 2427</text>\r\n",
       "<text text-anchor=\"start\" x=\"307.5\" y=\"-408.8\" font-family=\"Helvetica,sans-Serif\" font-size=\"14.00\">value = [11, 2416]</text>\r\n",
       "</g>\r\n",
       "<!-- 7&#45;&gt;8 -->\r\n",
       "<g id=\"edge8\" class=\"edge\">\r\n",
       "<title>7&#45;&gt;8</title>\r\n",
       "<path fill=\"none\" stroke=\"black\" d=\"M409.75,-504.88C404.07,-496.24 397.88,-486.82 391.95,-477.79\"/>\r\n",
       "<polygon fill=\"black\" stroke=\"black\" points=\"394.79,-475.74 386.37,-469.3 388.94,-479.58 394.79,-475.74\"/>\r\n",
       "</g>\r\n",
       "<!-- 13 -->\r\n",
       "<g id=\"node14\" class=\"node\">\r\n",
       "<title>13</title>\r\n",
       "<path fill=\"#e58139\" stroke=\"black\" d=\"M577,-461.5C577,-461.5 496,-461.5 496,-461.5 490,-461.5 484,-455.5 484,-449.5 484,-449.5 484,-420.5 484,-420.5 484,-414.5 490,-408.5 496,-408.5 496,-408.5 577,-408.5 577,-408.5 583,-408.5 589,-414.5 589,-420.5 589,-420.5 589,-449.5 589,-449.5 589,-455.5 583,-461.5 577,-461.5\"/>\r\n",
       "<text text-anchor=\"start\" x=\"507.5\" y=\"-446.3\" font-family=\"Helvetica,sans-Serif\" font-size=\"14.00\">gini = 0.0</text>\r\n",
       "<text text-anchor=\"start\" x=\"493\" y=\"-431.3\" font-family=\"Helvetica,sans-Serif\" font-size=\"14.00\">samples = 19</text>\r\n",
       "<text text-anchor=\"start\" x=\"492\" y=\"-416.3\" font-family=\"Helvetica,sans-Serif\" font-size=\"14.00\">value = [19, 0]</text>\r\n",
       "</g>\r\n",
       "<!-- 7&#45;&gt;13 -->\r\n",
       "<g id=\"edge13\" class=\"edge\">\r\n",
       "<title>7&#45;&gt;13</title>\r\n",
       "<path fill=\"none\" stroke=\"black\" d=\"M465.59,-504.88C477.59,-493.23 491.06,-480.14 503.01,-468.53\"/>\r\n",
       "<polygon fill=\"black\" stroke=\"black\" points=\"505.5,-471 510.23,-461.52 500.62,-465.98 505.5,-471\"/>\r\n",
       "</g>\r\n",
       "<!-- 9 -->\r\n",
       "<g id=\"node10\" class=\"node\">\r\n",
       "<title>9</title>\r\n",
       "<path fill=\"#9ccef2\" stroke=\"black\" d=\"M405,-365C405,-365 302,-365 302,-365 296,-365 290,-359 290,-353 290,-353 290,-309 290,-309 290,-303 296,-297 302,-297 302,-297 405,-297 405,-297 411,-297 417,-303 417,-309 417,-309 417,-353 417,-353 417,-359 411,-365 405,-365\"/>\r\n",
       "<text text-anchor=\"start\" x=\"298\" y=\"-349.8\" font-family=\"Helvetica,sans-Serif\" font-size=\"14.00\">cap&#45;surface ≤ 2.5</text>\r\n",
       "<text text-anchor=\"start\" x=\"316\" y=\"-334.8\" font-family=\"Helvetica,sans-Serif\" font-size=\"14.00\">gini = 0.444</text>\r\n",
       "<text text-anchor=\"start\" x=\"310\" y=\"-319.8\" font-family=\"Helvetica,sans-Serif\" font-size=\"14.00\">samples = 33</text>\r\n",
       "<text text-anchor=\"start\" x=\"305\" y=\"-304.8\" font-family=\"Helvetica,sans-Serif\" font-size=\"14.00\">value = [11, 22]</text>\r\n",
       "</g>\r\n",
       "<!-- 8&#45;&gt;9 -->\r\n",
       "<g id=\"edge9\" class=\"edge\">\r\n",
       "<title>8&#45;&gt;9</title>\r\n",
       "<path fill=\"none\" stroke=\"black\" d=\"M360.93,-400.88C360.05,-392.78 359.11,-383.98 358.19,-375.47\"/>\r\n",
       "<polygon fill=\"black\" stroke=\"black\" points=\"361.64,-374.87 357.09,-365.3 354.68,-375.62 361.64,-374.87\"/>\r\n",
       "</g>\r\n",
       "<!-- 12 -->\r\n",
       "<g id=\"node13\" class=\"node\">\r\n",
       "<title>12</title>\r\n",
       "<path fill=\"#399de5\" stroke=\"black\" d=\"M545.5,-357.5C545.5,-357.5 447.5,-357.5 447.5,-357.5 441.5,-357.5 435.5,-351.5 435.5,-345.5 435.5,-345.5 435.5,-316.5 435.5,-316.5 435.5,-310.5 441.5,-304.5 447.5,-304.5 447.5,-304.5 545.5,-304.5 545.5,-304.5 551.5,-304.5 557.5,-310.5 557.5,-316.5 557.5,-316.5 557.5,-345.5 557.5,-345.5 557.5,-351.5 551.5,-357.5 545.5,-357.5\"/>\r\n",
       "<text text-anchor=\"start\" x=\"467.5\" y=\"-342.3\" font-family=\"Helvetica,sans-Serif\" font-size=\"14.00\">gini = 0.0</text>\r\n",
       "<text text-anchor=\"start\" x=\"445\" y=\"-327.3\" font-family=\"Helvetica,sans-Serif\" font-size=\"14.00\">samples = 2394</text>\r\n",
       "<text text-anchor=\"start\" x=\"443.5\" y=\"-312.3\" font-family=\"Helvetica,sans-Serif\" font-size=\"14.00\">value = [0, 2394]</text>\r\n",
       "</g>\r\n",
       "<!-- 8&#45;&gt;12 -->\r\n",
       "<g id=\"edge12\" class=\"edge\">\r\n",
       "<title>8&#45;&gt;12</title>\r\n",
       "<path fill=\"none\" stroke=\"black\" d=\"M407.36,-400.88C422.73,-389.01 440.02,-375.65 455.25,-363.88\"/>\r\n",
       "<polygon fill=\"black\" stroke=\"black\" points=\"457.7,-366.4 463.47,-357.52 453.42,-360.86 457.7,-366.4\"/>\r\n",
       "</g>\r\n",
       "<!-- 10 -->\r\n",
       "<g id=\"node11\" class=\"node\">\r\n",
       "<title>10</title>\r\n",
       "<path fill=\"#399de5\" stroke=\"black\" d=\"M332,-253.5C332,-253.5 251,-253.5 251,-253.5 245,-253.5 239,-247.5 239,-241.5 239,-241.5 239,-212.5 239,-212.5 239,-206.5 245,-200.5 251,-200.5 251,-200.5 332,-200.5 332,-200.5 338,-200.5 344,-206.5 344,-212.5 344,-212.5 344,-241.5 344,-241.5 344,-247.5 338,-253.5 332,-253.5\"/>\r\n",
       "<text text-anchor=\"start\" x=\"262.5\" y=\"-238.3\" font-family=\"Helvetica,sans-Serif\" font-size=\"14.00\">gini = 0.0</text>\r\n",
       "<text text-anchor=\"start\" x=\"248\" y=\"-223.3\" font-family=\"Helvetica,sans-Serif\" font-size=\"14.00\">samples = 22</text>\r\n",
       "<text text-anchor=\"start\" x=\"247\" y=\"-208.3\" font-family=\"Helvetica,sans-Serif\" font-size=\"14.00\">value = [0, 22]</text>\r\n",
       "</g>\r\n",
       "<!-- 9&#45;&gt;10 -->\r\n",
       "<g id=\"edge10\" class=\"edge\">\r\n",
       "<title>9&#45;&gt;10</title>\r\n",
       "<path fill=\"none\" stroke=\"black\" d=\"M333.37,-296.88C326.62,-285.78 319.08,-273.37 312.28,-262.18\"/>\r\n",
       "<polygon fill=\"black\" stroke=\"black\" points=\"315.2,-260.25 307.01,-253.52 309.22,-263.88 315.2,-260.25\"/>\r\n",
       "</g>\r\n",
       "<!-- 11 -->\r\n",
       "<g id=\"node12\" class=\"node\">\r\n",
       "<title>11</title>\r\n",
       "<path fill=\"#e58139\" stroke=\"black\" d=\"M455,-253.5C455,-253.5 374,-253.5 374,-253.5 368,-253.5 362,-247.5 362,-241.5 362,-241.5 362,-212.5 362,-212.5 362,-206.5 368,-200.5 374,-200.5 374,-200.5 455,-200.5 455,-200.5 461,-200.5 467,-206.5 467,-212.5 467,-212.5 467,-241.5 467,-241.5 467,-247.5 461,-253.5 455,-253.5\"/>\r\n",
       "<text text-anchor=\"start\" x=\"385.5\" y=\"-238.3\" font-family=\"Helvetica,sans-Serif\" font-size=\"14.00\">gini = 0.0</text>\r\n",
       "<text text-anchor=\"start\" x=\"371\" y=\"-223.3\" font-family=\"Helvetica,sans-Serif\" font-size=\"14.00\">samples = 11</text>\r\n",
       "<text text-anchor=\"start\" x=\"370\" y=\"-208.3\" font-family=\"Helvetica,sans-Serif\" font-size=\"14.00\">value = [11, 0]</text>\r\n",
       "</g>\r\n",
       "<!-- 9&#45;&gt;11 -->\r\n",
       "<g id=\"edge11\" class=\"edge\">\r\n",
       "<title>9&#45;&gt;11</title>\r\n",
       "<path fill=\"none\" stroke=\"black\" d=\"M373.3,-296.88C379.95,-285.78 387.37,-273.37 394.06,-262.18\"/>\r\n",
       "<polygon fill=\"black\" stroke=\"black\" points=\"397.11,-263.9 399.24,-253.52 391.1,-260.31 397.11,-263.9\"/>\r\n",
       "</g>\r\n",
       "<!-- 15 -->\r\n",
       "<g id=\"node16\" class=\"node\">\r\n",
       "<title>15</title>\r\n",
       "<path fill=\"#53aae8\" stroke=\"black\" d=\"M775.5,-573C775.5,-573 677.5,-573 677.5,-573 671.5,-573 665.5,-567 665.5,-561 665.5,-561 665.5,-517 665.5,-517 665.5,-511 671.5,-505 677.5,-505 677.5,-505 775.5,-505 775.5,-505 781.5,-505 787.5,-511 787.5,-517 787.5,-517 787.5,-561 787.5,-561 787.5,-567 781.5,-573 775.5,-573\"/>\r\n",
       "<text text-anchor=\"start\" x=\"694\" y=\"-557.8\" font-family=\"Helvetica,sans-Serif\" font-size=\"14.00\">odor ≤ 3.5</text>\r\n",
       "<text text-anchor=\"start\" x=\"689\" y=\"-542.8\" font-family=\"Helvetica,sans-Serif\" font-size=\"14.00\">gini = 0.207</text>\r\n",
       "<text text-anchor=\"start\" x=\"679\" y=\"-527.8\" font-family=\"Helvetica,sans-Serif\" font-size=\"14.00\">samples = 648</text>\r\n",
       "<text text-anchor=\"start\" x=\"673.5\" y=\"-512.8\" font-family=\"Helvetica,sans-Serif\" font-size=\"14.00\">value = [76, 572]</text>\r\n",
       "</g>\r\n",
       "<!-- 14&#45;&gt;15 -->\r\n",
       "<g id=\"edge15\" class=\"edge\">\r\n",
       "<title>14&#45;&gt;15</title>\r\n",
       "<path fill=\"none\" stroke=\"black\" d=\"M726.5,-608.88C726.5,-600.78 726.5,-591.98 726.5,-583.47\"/>\r\n",
       "<polygon fill=\"black\" stroke=\"black\" points=\"730,-583.3 726.5,-573.3 723,-583.3 730,-583.3\"/>\r\n",
       "</g>\r\n",
       "<!-- 18 -->\r\n",
       "<g id=\"node19\" class=\"node\">\r\n",
       "<title>18</title>\r\n",
       "<path fill=\"#e99457\" stroke=\"black\" d=\"M1011.5,-573C1011.5,-573 897.5,-573 897.5,-573 891.5,-573 885.5,-567 885.5,-561 885.5,-561 885.5,-517 885.5,-517 885.5,-511 891.5,-505 897.5,-505 897.5,-505 1011.5,-505 1011.5,-505 1017.5,-505 1023.5,-511 1023.5,-517 1023.5,-517 1023.5,-561 1023.5,-561 1023.5,-567 1017.5,-573 1011.5,-573\"/>\r\n",
       "<text text-anchor=\"start\" x=\"913\" y=\"-557.8\" font-family=\"Helvetica,sans-Serif\" font-size=\"14.00\">gill&#45;size ≤ 0.5</text>\r\n",
       "<text text-anchor=\"start\" x=\"917\" y=\"-542.8\" font-family=\"Helvetica,sans-Serif\" font-size=\"14.00\">gini = 0.227</text>\r\n",
       "<text text-anchor=\"start\" x=\"903\" y=\"-527.8\" font-family=\"Helvetica,sans-Serif\" font-size=\"14.00\">samples = 3692</text>\r\n",
       "<text text-anchor=\"start\" x=\"893.5\" y=\"-512.8\" font-family=\"Helvetica,sans-Serif\" font-size=\"14.00\">value = [3211, 481]</text>\r\n",
       "</g>\r\n",
       "<!-- 14&#45;&gt;18 -->\r\n",
       "<g id=\"edge18\" class=\"edge\">\r\n",
       "<title>14&#45;&gt;18</title>\r\n",
       "<path fill=\"none\" stroke=\"black\" d=\"M800.53,-608.88C824.74,-598.05 851.71,-585.99 876.22,-575.02\"/>\r\n",
       "<polygon fill=\"black\" stroke=\"black\" points=\"877.79,-578.15 885.49,-570.87 874.93,-571.76 877.79,-578.15\"/>\r\n",
       "</g>\r\n",
       "<!-- 16 -->\r\n",
       "<g id=\"node17\" class=\"node\">\r\n",
       "<title>16</title>\r\n",
       "<path fill=\"#399de5\" stroke=\"black\" d=\"M708,-461.5C708,-461.5 619,-461.5 619,-461.5 613,-461.5 607,-455.5 607,-449.5 607,-449.5 607,-420.5 607,-420.5 607,-414.5 613,-408.5 619,-408.5 619,-408.5 708,-408.5 708,-408.5 714,-408.5 720,-414.5 720,-420.5 720,-420.5 720,-449.5 720,-449.5 720,-455.5 714,-461.5 708,-461.5\"/>\r\n",
       "<text text-anchor=\"start\" x=\"634.5\" y=\"-446.3\" font-family=\"Helvetica,sans-Serif\" font-size=\"14.00\">gini = 0.0</text>\r\n",
       "<text text-anchor=\"start\" x=\"616\" y=\"-431.3\" font-family=\"Helvetica,sans-Serif\" font-size=\"14.00\">samples = 572</text>\r\n",
       "<text text-anchor=\"start\" x=\"615\" y=\"-416.3\" font-family=\"Helvetica,sans-Serif\" font-size=\"14.00\">value = [0, 572]</text>\r\n",
       "</g>\r\n",
       "<!-- 15&#45;&gt;16 -->\r\n",
       "<g id=\"edge16\" class=\"edge\">\r\n",
       "<title>15&#45;&gt;16</title>\r\n",
       "<path fill=\"none\" stroke=\"black\" d=\"M706.05,-504.88C699.18,-493.78 691.52,-481.37 684.61,-470.18\"/>\r\n",
       "<polygon fill=\"black\" stroke=\"black\" points=\"687.5,-468.19 679.26,-461.52 681.54,-471.87 687.5,-468.19\"/>\r\n",
       "</g>\r\n",
       "<!-- 17 -->\r\n",
       "<g id=\"node18\" class=\"node\">\r\n",
       "<title>17</title>\r\n",
       "<path fill=\"#e58139\" stroke=\"black\" d=\"M831,-461.5C831,-461.5 750,-461.5 750,-461.5 744,-461.5 738,-455.5 738,-449.5 738,-449.5 738,-420.5 738,-420.5 738,-414.5 744,-408.5 750,-408.5 750,-408.5 831,-408.5 831,-408.5 837,-408.5 843,-414.5 843,-420.5 843,-420.5 843,-449.5 843,-449.5 843,-455.5 837,-461.5 831,-461.5\"/>\r\n",
       "<text text-anchor=\"start\" x=\"761.5\" y=\"-446.3\" font-family=\"Helvetica,sans-Serif\" font-size=\"14.00\">gini = 0.0</text>\r\n",
       "<text text-anchor=\"start\" x=\"747\" y=\"-431.3\" font-family=\"Helvetica,sans-Serif\" font-size=\"14.00\">samples = 76</text>\r\n",
       "<text text-anchor=\"start\" x=\"746\" y=\"-416.3\" font-family=\"Helvetica,sans-Serif\" font-size=\"14.00\">value = [76, 0]</text>\r\n",
       "</g>\r\n",
       "<!-- 15&#45;&gt;17 -->\r\n",
       "<g id=\"edge17\" class=\"edge\">\r\n",
       "<title>15&#45;&gt;17</title>\r\n",
       "<path fill=\"none\" stroke=\"black\" d=\"M747.28,-504.88C754.25,-493.78 762.03,-481.37 769.05,-470.18\"/>\r\n",
       "<polygon fill=\"black\" stroke=\"black\" points=\"772.14,-471.85 774.49,-461.52 766.21,-468.13 772.14,-471.85\"/>\r\n",
       "</g>\r\n",
       "<!-- 19 -->\r\n",
       "<g id=\"node20\" class=\"node\">\r\n",
       "<title>19</title>\r\n",
       "<path fill=\"#e6843e\" stroke=\"black\" d=\"M1035.5,-469C1035.5,-469 873.5,-469 873.5,-469 867.5,-469 861.5,-463 861.5,-457 861.5,-457 861.5,-413 861.5,-413 861.5,-407 867.5,-401 873.5,-401 873.5,-401 1035.5,-401 1035.5,-401 1041.5,-401 1047.5,-407 1047.5,-413 1047.5,-413 1047.5,-457 1047.5,-457 1047.5,-463 1041.5,-469 1035.5,-469\"/>\r\n",
       "<text text-anchor=\"start\" x=\"869.5\" y=\"-453.8\" font-family=\"Helvetica,sans-Serif\" font-size=\"14.00\">stalk&#45;color&#45;below&#45;ring ≤ 1.5</text>\r\n",
       "<text text-anchor=\"start\" x=\"921\" y=\"-438.8\" font-family=\"Helvetica,sans-Serif\" font-size=\"14.00\">gini = 0.05</text>\r\n",
       "<text text-anchor=\"start\" x=\"903\" y=\"-423.8\" font-family=\"Helvetica,sans-Serif\" font-size=\"14.00\">samples = 3101</text>\r\n",
       "<text text-anchor=\"start\" x=\"897.5\" y=\"-408.8\" font-family=\"Helvetica,sans-Serif\" font-size=\"14.00\">value = [3022, 79]</text>\r\n",
       "</g>\r\n",
       "<!-- 18&#45;&gt;19 -->\r\n",
       "<g id=\"edge19\" class=\"edge\">\r\n",
       "<title>18&#45;&gt;19</title>\r\n",
       "<path fill=\"none\" stroke=\"black\" d=\"M954.5,-504.88C954.5,-496.78 954.5,-487.98 954.5,-479.47\"/>\r\n",
       "<polygon fill=\"black\" stroke=\"black\" points=\"958,-479.3 954.5,-469.3 951,-479.3 958,-479.3\"/>\r\n",
       "</g>\r\n",
       "<!-- 30 -->\r\n",
       "<g id=\"node31\" class=\"node\">\r\n",
       "<title>30</title>\r\n",
       "<path fill=\"#96cbf1\" stroke=\"black\" d=\"M1183.5,-469C1183.5,-469 1077.5,-469 1077.5,-469 1071.5,-469 1065.5,-463 1065.5,-457 1065.5,-457 1065.5,-413 1065.5,-413 1065.5,-407 1071.5,-401 1077.5,-401 1077.5,-401 1183.5,-401 1183.5,-401 1189.5,-401 1195.5,-407 1195.5,-413 1195.5,-413 1195.5,-457 1195.5,-457 1195.5,-463 1189.5,-469 1183.5,-469\"/>\r\n",
       "<text text-anchor=\"start\" x=\"1076.5\" y=\"-453.8\" font-family=\"Helvetica,sans-Serif\" font-size=\"14.00\">stalk&#45;shape ≤ 0.5</text>\r\n",
       "<text text-anchor=\"start\" x=\"1093\" y=\"-438.8\" font-family=\"Helvetica,sans-Serif\" font-size=\"14.00\">gini = 0.435</text>\r\n",
       "<text text-anchor=\"start\" x=\"1083\" y=\"-423.8\" font-family=\"Helvetica,sans-Serif\" font-size=\"14.00\">samples = 591</text>\r\n",
       "<text text-anchor=\"start\" x=\"1073.5\" y=\"-408.8\" font-family=\"Helvetica,sans-Serif\" font-size=\"14.00\">value = [189, 402]</text>\r\n",
       "</g>\r\n",
       "<!-- 18&#45;&gt;30 -->\r\n",
       "<g id=\"edge30\" class=\"edge\">\r\n",
       "<title>18&#45;&gt;30</title>\r\n",
       "<path fill=\"none\" stroke=\"black\" d=\"M1011.64,-504.88C1028.48,-495.12 1047.04,-484.37 1064.4,-474.31\"/>\r\n",
       "<polygon fill=\"black\" stroke=\"black\" points=\"1066.45,-477.17 1073.34,-469.12 1062.94,-471.11 1066.45,-477.17\"/>\r\n",
       "</g>\r\n",
       "<!-- 20 -->\r\n",
       "<g id=\"node21\" class=\"node\">\r\n",
       "<title>20</title>\r\n",
       "<path fill=\"#399de5\" stroke=\"black\" d=\"M861,-357.5C861,-357.5 780,-357.5 780,-357.5 774,-357.5 768,-351.5 768,-345.5 768,-345.5 768,-316.5 768,-316.5 768,-310.5 774,-304.5 780,-304.5 780,-304.5 861,-304.5 861,-304.5 867,-304.5 873,-310.5 873,-316.5 873,-316.5 873,-345.5 873,-345.5 873,-351.5 867,-357.5 861,-357.5\"/>\r\n",
       "<text text-anchor=\"start\" x=\"791.5\" y=\"-342.3\" font-family=\"Helvetica,sans-Serif\" font-size=\"14.00\">gini = 0.0</text>\r\n",
       "<text text-anchor=\"start\" x=\"777\" y=\"-327.3\" font-family=\"Helvetica,sans-Serif\" font-size=\"14.00\">samples = 34</text>\r\n",
       "<text text-anchor=\"start\" x=\"776\" y=\"-312.3\" font-family=\"Helvetica,sans-Serif\" font-size=\"14.00\">value = [0, 34]</text>\r\n",
       "</g>\r\n",
       "<!-- 19&#45;&gt;20 -->\r\n",
       "<g id=\"edge20\" class=\"edge\">\r\n",
       "<title>19&#45;&gt;20</title>\r\n",
       "<path fill=\"none\" stroke=\"black\" d=\"M910.99,-400.88C895.39,-389.01 877.84,-375.65 862.38,-363.88\"/>\r\n",
       "<polygon fill=\"black\" stroke=\"black\" points=\"864.1,-360.79 854.03,-357.52 859.86,-366.36 864.1,-360.79\"/>\r\n",
       "</g>\r\n",
       "<!-- 21 -->\r\n",
       "<g id=\"node22\" class=\"node\">\r\n",
       "<title>21</title>\r\n",
       "<path fill=\"#e5833c\" stroke=\"black\" d=\"M1009.5,-365C1009.5,-365 903.5,-365 903.5,-365 897.5,-365 891.5,-359 891.5,-353 891.5,-353 891.5,-309 891.5,-309 891.5,-303 897.5,-297 903.5,-297 903.5,-297 1009.5,-297 1009.5,-297 1015.5,-297 1021.5,-303 1021.5,-309 1021.5,-309 1021.5,-353 1021.5,-353 1021.5,-359 1015.5,-365 1009.5,-365\"/>\r\n",
       "<text text-anchor=\"start\" x=\"909\" y=\"-349.8\" font-family=\"Helvetica,sans-Serif\" font-size=\"14.00\">cap&#45;color ≤ 0.5</text>\r\n",
       "<text text-anchor=\"start\" x=\"919\" y=\"-334.8\" font-family=\"Helvetica,sans-Serif\" font-size=\"14.00\">gini = 0.029</text>\r\n",
       "<text text-anchor=\"start\" x=\"905\" y=\"-319.8\" font-family=\"Helvetica,sans-Serif\" font-size=\"14.00\">samples = 3067</text>\r\n",
       "<text text-anchor=\"start\" x=\"899.5\" y=\"-304.8\" font-family=\"Helvetica,sans-Serif\" font-size=\"14.00\">value = [3022, 45]</text>\r\n",
       "</g>\r\n",
       "<!-- 19&#45;&gt;21 -->\r\n",
       "<g id=\"edge21\" class=\"edge\">\r\n",
       "<title>19&#45;&gt;21</title>\r\n",
       "<path fill=\"none\" stroke=\"black\" d=\"M955.15,-400.88C955.31,-392.78 955.48,-383.98 955.65,-375.47\"/>\r\n",
       "<polygon fill=\"black\" stroke=\"black\" points=\"959.15,-375.37 955.85,-365.3 952.15,-375.23 959.15,-375.37\"/>\r\n",
       "</g>\r\n",
       "<!-- 22 -->\r\n",
       "<g id=\"node23\" class=\"node\">\r\n",
       "<title>22</title>\r\n",
       "<path fill=\"#f8dbc6\" stroke=\"black\" d=\"M862,-261C862,-261 773,-261 773,-261 767,-261 761,-255 761,-249 761,-249 761,-205 761,-205 761,-199 767,-193 773,-193 773,-193 862,-193 862,-193 868,-193 874,-199 874,-205 874,-205 874,-249 874,-249 874,-255 868,-261 862,-261\"/>\r\n",
       "<text text-anchor=\"start\" x=\"779\" y=\"-245.8\" font-family=\"Helvetica,sans-Serif\" font-size=\"14.00\">habitat ≤ 4.5</text>\r\n",
       "<text text-anchor=\"start\" x=\"780\" y=\"-230.8\" font-family=\"Helvetica,sans-Serif\" font-size=\"14.00\">gini = 0.486</text>\r\n",
       "<text text-anchor=\"start\" x=\"774\" y=\"-215.8\" font-family=\"Helvetica,sans-Serif\" font-size=\"14.00\">samples = 36</text>\r\n",
       "<text text-anchor=\"start\" x=\"769\" y=\"-200.8\" font-family=\"Helvetica,sans-Serif\" font-size=\"14.00\">value = [21, 15]</text>\r\n",
       "</g>\r\n",
       "<!-- 21&#45;&gt;22 -->\r\n",
       "<g id=\"edge22\" class=\"edge\">\r\n",
       "<title>21&#45;&gt;22</title>\r\n",
       "<path fill=\"none\" stroke=\"black\" d=\"M911.37,-296.88C898.5,-287.44 884.36,-277.06 871.04,-267.29\"/>\r\n",
       "<polygon fill=\"black\" stroke=\"black\" points=\"873.01,-264.39 862.88,-261.3 868.87,-270.04 873.01,-264.39\"/>\r\n",
       "</g>\r\n",
       "<!-- 25 -->\r\n",
       "<g id=\"node26\" class=\"node\">\r\n",
       "<title>25</title>\r\n",
       "<path fill=\"#e5823b\" stroke=\"black\" d=\"M1010.5,-261C1010.5,-261 904.5,-261 904.5,-261 898.5,-261 892.5,-255 892.5,-249 892.5,-249 892.5,-205 892.5,-205 892.5,-199 898.5,-193 904.5,-193 904.5,-193 1010.5,-193 1010.5,-193 1016.5,-193 1022.5,-199 1022.5,-205 1022.5,-205 1022.5,-249 1022.5,-249 1022.5,-255 1016.5,-261 1010.5,-261\"/>\r\n",
       "<text text-anchor=\"start\" x=\"901.5\" y=\"-245.8\" font-family=\"Helvetica,sans-Serif\" font-size=\"14.00\">ring&#45;number ≤ 1.5</text>\r\n",
       "<text text-anchor=\"start\" x=\"924\" y=\"-230.8\" font-family=\"Helvetica,sans-Serif\" font-size=\"14.00\">gini = 0.02</text>\r\n",
       "<text text-anchor=\"start\" x=\"906\" y=\"-215.8\" font-family=\"Helvetica,sans-Serif\" font-size=\"14.00\">samples = 3031</text>\r\n",
       "<text text-anchor=\"start\" x=\"900.5\" y=\"-200.8\" font-family=\"Helvetica,sans-Serif\" font-size=\"14.00\">value = [3001, 30]</text>\r\n",
       "</g>\r\n",
       "<!-- 21&#45;&gt;25 -->\r\n",
       "<g id=\"edge25\" class=\"edge\">\r\n",
       "<title>21&#45;&gt;25</title>\r\n",
       "<path fill=\"none\" stroke=\"black\" d=\"M956.82,-296.88C956.9,-288.78 956.99,-279.98 957.07,-271.47\"/>\r\n",
       "<polygon fill=\"black\" stroke=\"black\" points=\"960.58,-271.33 957.17,-261.3 953.58,-271.26 960.58,-271.33\"/>\r\n",
       "</g>\r\n",
       "<!-- 23 -->\r\n",
       "<g id=\"node24\" class=\"node\">\r\n",
       "<title>23</title>\r\n",
       "<path fill=\"#399de5\" stroke=\"black\" d=\"M737,-149.5C737,-149.5 656,-149.5 656,-149.5 650,-149.5 644,-143.5 644,-137.5 644,-137.5 644,-108.5 644,-108.5 644,-102.5 650,-96.5 656,-96.5 656,-96.5 737,-96.5 737,-96.5 743,-96.5 749,-102.5 749,-108.5 749,-108.5 749,-137.5 749,-137.5 749,-143.5 743,-149.5 737,-149.5\"/>\r\n",
       "<text text-anchor=\"start\" x=\"667.5\" y=\"-134.3\" font-family=\"Helvetica,sans-Serif\" font-size=\"14.00\">gini = 0.0</text>\r\n",
       "<text text-anchor=\"start\" x=\"653\" y=\"-119.3\" font-family=\"Helvetica,sans-Serif\" font-size=\"14.00\">samples = 15</text>\r\n",
       "<text text-anchor=\"start\" x=\"652\" y=\"-104.3\" font-family=\"Helvetica,sans-Serif\" font-size=\"14.00\">value = [0, 15]</text>\r\n",
       "</g>\r\n",
       "<!-- 22&#45;&gt;23 -->\r\n",
       "<g id=\"edge23\" class=\"edge\">\r\n",
       "<title>22&#45;&gt;23</title>\r\n",
       "<path fill=\"none\" stroke=\"black\" d=\"M778.21,-192.88C764.26,-181.12 748.57,-167.89 734.7,-156.2\"/>\r\n",
       "<polygon fill=\"black\" stroke=\"black\" points=\"736.68,-153.29 726.77,-149.52 732.16,-158.64 736.68,-153.29\"/>\r\n",
       "</g>\r\n",
       "<!-- 24 -->\r\n",
       "<g id=\"node25\" class=\"node\">\r\n",
       "<title>24</title>\r\n",
       "<path fill=\"#e58139\" stroke=\"black\" d=\"M860,-149.5C860,-149.5 779,-149.5 779,-149.5 773,-149.5 767,-143.5 767,-137.5 767,-137.5 767,-108.5 767,-108.5 767,-102.5 773,-96.5 779,-96.5 779,-96.5 860,-96.5 860,-96.5 866,-96.5 872,-102.5 872,-108.5 872,-108.5 872,-137.5 872,-137.5 872,-143.5 866,-149.5 860,-149.5\"/>\r\n",
       "<text text-anchor=\"start\" x=\"790.5\" y=\"-134.3\" font-family=\"Helvetica,sans-Serif\" font-size=\"14.00\">gini = 0.0</text>\r\n",
       "<text text-anchor=\"start\" x=\"776\" y=\"-119.3\" font-family=\"Helvetica,sans-Serif\" font-size=\"14.00\">samples = 21</text>\r\n",
       "<text text-anchor=\"start\" x=\"775\" y=\"-104.3\" font-family=\"Helvetica,sans-Serif\" font-size=\"14.00\">value = [21, 0]</text>\r\n",
       "</g>\r\n",
       "<!-- 22&#45;&gt;24 -->\r\n",
       "<g id=\"edge24\" class=\"edge\">\r\n",
       "<title>22&#45;&gt;24</title>\r\n",
       "<path fill=\"none\" stroke=\"black\" d=\"M818.15,-192.88C818.36,-182.22 818.59,-170.35 818.8,-159.52\"/>\r\n",
       "<polygon fill=\"black\" stroke=\"black\" points=\"822.3,-159.59 819,-149.52 815.3,-159.45 822.3,-159.59\"/>\r\n",
       "</g>\r\n",
       "<!-- 26 -->\r\n",
       "<g id=\"node27\" class=\"node\">\r\n",
       "<title>26</title>\r\n",
       "<path fill=\"#e58139\" stroke=\"black\" d=\"M1004.5,-149.5C1004.5,-149.5 906.5,-149.5 906.5,-149.5 900.5,-149.5 894.5,-143.5 894.5,-137.5 894.5,-137.5 894.5,-108.5 894.5,-108.5 894.5,-102.5 900.5,-96.5 906.5,-96.5 906.5,-96.5 1004.5,-96.5 1004.5,-96.5 1010.5,-96.5 1016.5,-102.5 1016.5,-108.5 1016.5,-108.5 1016.5,-137.5 1016.5,-137.5 1016.5,-143.5 1010.5,-149.5 1004.5,-149.5\"/>\r\n",
       "<text text-anchor=\"start\" x=\"926.5\" y=\"-134.3\" font-family=\"Helvetica,sans-Serif\" font-size=\"14.00\">gini = 0.0</text>\r\n",
       "<text text-anchor=\"start\" x=\"904\" y=\"-119.3\" font-family=\"Helvetica,sans-Serif\" font-size=\"14.00\">samples = 2716</text>\r\n",
       "<text text-anchor=\"start\" x=\"902.5\" y=\"-104.3\" font-family=\"Helvetica,sans-Serif\" font-size=\"14.00\">value = [2716, 0]</text>\r\n",
       "</g>\r\n",
       "<!-- 25&#45;&gt;26 -->\r\n",
       "<g id=\"edge26\" class=\"edge\">\r\n",
       "<title>25&#45;&gt;26</title>\r\n",
       "<path fill=\"none\" stroke=\"black\" d=\"M956.85,-192.88C956.64,-182.22 956.41,-170.35 956.2,-159.52\"/>\r\n",
       "<polygon fill=\"black\" stroke=\"black\" points=\"959.7,-159.45 956,-149.52 952.7,-159.59 959.7,-159.45\"/>\r\n",
       "</g>\r\n",
       "<!-- 27 -->\r\n",
       "<g id=\"node28\" class=\"node\">\r\n",
       "<title>27</title>\r\n",
       "<path fill=\"#e88e4e\" stroke=\"black\" d=\"M1178.5,-157C1178.5,-157 1046.5,-157 1046.5,-157 1040.5,-157 1034.5,-151 1034.5,-145 1034.5,-145 1034.5,-101 1034.5,-101 1034.5,-95 1040.5,-89 1046.5,-89 1046.5,-89 1178.5,-89 1178.5,-89 1184.5,-89 1190.5,-95 1190.5,-101 1190.5,-101 1190.5,-145 1190.5,-145 1190.5,-151 1184.5,-157 1178.5,-157\"/>\r\n",
       "<text text-anchor=\"start\" x=\"1042.5\" y=\"-141.8\" font-family=\"Helvetica,sans-Serif\" font-size=\"14.00\">spore&#45;print&#45;color ≤ 6.0</text>\r\n",
       "<text text-anchor=\"start\" x=\"1075\" y=\"-126.8\" font-family=\"Helvetica,sans-Serif\" font-size=\"14.00\">gini = 0.172</text>\r\n",
       "<text text-anchor=\"start\" x=\"1065\" y=\"-111.8\" font-family=\"Helvetica,sans-Serif\" font-size=\"14.00\">samples = 315</text>\r\n",
       "<text text-anchor=\"start\" x=\"1059.5\" y=\"-96.8\" font-family=\"Helvetica,sans-Serif\" font-size=\"14.00\">value = [285, 30]</text>\r\n",
       "</g>\r\n",
       "<!-- 25&#45;&gt;27 -->\r\n",
       "<g id=\"edge27\" class=\"edge\">\r\n",
       "<title>25&#45;&gt;27</title>\r\n",
       "<path fill=\"none\" stroke=\"black\" d=\"M1007.82,-192.88C1022.38,-183.3 1038.4,-172.76 1053.44,-162.86\"/>\r\n",
       "<polygon fill=\"black\" stroke=\"black\" points=\"1055.73,-165.55 1062.16,-157.12 1051.89,-159.7 1055.73,-165.55\"/>\r\n",
       "</g>\r\n",
       "<!-- 28 -->\r\n",
       "<g id=\"node29\" class=\"node\">\r\n",
       "<title>28</title>\r\n",
       "<path fill=\"#399de5\" stroke=\"black\" d=\"M1030,-53C1030,-53 949,-53 949,-53 943,-53 937,-47 937,-41 937,-41 937,-12 937,-12 937,-6 943,0 949,0 949,0 1030,0 1030,0 1036,0 1042,-6 1042,-12 1042,-12 1042,-41 1042,-41 1042,-47 1036,-53 1030,-53\"/>\r\n",
       "<text text-anchor=\"start\" x=\"960.5\" y=\"-37.8\" font-family=\"Helvetica,sans-Serif\" font-size=\"14.00\">gini = 0.0</text>\r\n",
       "<text text-anchor=\"start\" x=\"946\" y=\"-22.8\" font-family=\"Helvetica,sans-Serif\" font-size=\"14.00\">samples = 30</text>\r\n",
       "<text text-anchor=\"start\" x=\"945\" y=\"-7.8\" font-family=\"Helvetica,sans-Serif\" font-size=\"14.00\">value = [0, 30]</text>\r\n",
       "</g>\r\n",
       "<!-- 27&#45;&gt;28 -->\r\n",
       "<g id=\"edge28\" class=\"edge\">\r\n",
       "<title>27&#45;&gt;28</title>\r\n",
       "<path fill=\"none\" stroke=\"black\" d=\"M1069.48,-88.95C1056.98,-79.34 1043.35,-68.87 1030.95,-59.34\"/>\r\n",
       "<polygon fill=\"black\" stroke=\"black\" points=\"1033.06,-56.55 1023,-53.24 1028.8,-62.1 1033.06,-56.55\"/>\r\n",
       "</g>\r\n",
       "<!-- 29 -->\r\n",
       "<g id=\"node30\" class=\"node\">\r\n",
       "<title>29</title>\r\n",
       "<path fill=\"#e58139\" stroke=\"black\" d=\"M1161,-53C1161,-53 1072,-53 1072,-53 1066,-53 1060,-47 1060,-41 1060,-41 1060,-12 1060,-12 1060,-6 1066,0 1072,0 1072,0 1161,0 1161,0 1167,0 1173,-6 1173,-12 1173,-12 1173,-41 1173,-41 1173,-47 1167,-53 1161,-53\"/>\r\n",
       "<text text-anchor=\"start\" x=\"1087.5\" y=\"-37.8\" font-family=\"Helvetica,sans-Serif\" font-size=\"14.00\">gini = 0.0</text>\r\n",
       "<text text-anchor=\"start\" x=\"1069\" y=\"-22.8\" font-family=\"Helvetica,sans-Serif\" font-size=\"14.00\">samples = 285</text>\r\n",
       "<text text-anchor=\"start\" x=\"1068\" y=\"-7.8\" font-family=\"Helvetica,sans-Serif\" font-size=\"14.00\">value = [285, 0]</text>\r\n",
       "</g>\r\n",
       "<!-- 27&#45;&gt;29 -->\r\n",
       "<g id=\"edge29\" class=\"edge\">\r\n",
       "<title>27&#45;&gt;29</title>\r\n",
       "<path fill=\"none\" stroke=\"black\" d=\"M1113.9,-88.95C1114.25,-80.72 1114.62,-71.85 1114.98,-63.48\"/>\r\n",
       "<polygon fill=\"black\" stroke=\"black\" points=\"1118.48,-63.38 1115.41,-53.24 1111.49,-63.08 1118.48,-63.38\"/>\r\n",
       "</g>\r\n",
       "<!-- 31 -->\r\n",
       "<g id=\"node32\" class=\"node\">\r\n",
       "<title>31</title>\r\n",
       "<path fill=\"#6cb6ec\" stroke=\"black\" d=\"M1182.5,-365C1182.5,-365 1076.5,-365 1076.5,-365 1070.5,-365 1064.5,-359 1064.5,-353 1064.5,-353 1064.5,-309 1064.5,-309 1064.5,-303 1070.5,-297 1076.5,-297 1076.5,-297 1182.5,-297 1182.5,-297 1188.5,-297 1194.5,-303 1194.5,-309 1194.5,-309 1194.5,-353 1194.5,-353 1194.5,-359 1188.5,-365 1182.5,-365\"/>\r\n",
       "<text text-anchor=\"start\" x=\"1091\" y=\"-349.8\" font-family=\"Helvetica,sans-Serif\" font-size=\"14.00\">habitat ≤ 1.5</text>\r\n",
       "<text text-anchor=\"start\" x=\"1092\" y=\"-334.8\" font-family=\"Helvetica,sans-Serif\" font-size=\"14.00\">gini = 0.325</text>\r\n",
       "<text text-anchor=\"start\" x=\"1082\" y=\"-319.8\" font-family=\"Helvetica,sans-Serif\" font-size=\"14.00\">samples = 505</text>\r\n",
       "<text text-anchor=\"start\" x=\"1072.5\" y=\"-304.8\" font-family=\"Helvetica,sans-Serif\" font-size=\"14.00\">value = [103, 402]</text>\r\n",
       "</g>\r\n",
       "<!-- 30&#45;&gt;31 -->\r\n",
       "<g id=\"edge31\" class=\"edge\">\r\n",
       "<title>30&#45;&gt;31</title>\r\n",
       "<path fill=\"none\" stroke=\"black\" d=\"M1130.18,-400.88C1130.1,-392.78 1130.01,-383.98 1129.93,-375.47\"/>\r\n",
       "<polygon fill=\"black\" stroke=\"black\" points=\"1133.42,-375.26 1129.83,-365.3 1126.42,-375.33 1133.42,-375.26\"/>\r\n",
       "</g>\r\n",
       "<!-- 38 -->\r\n",
       "<g id=\"node39\" class=\"node\">\r\n",
       "<title>38</title>\r\n",
       "<path fill=\"#e58139\" stroke=\"black\" d=\"M1306,-357.5C1306,-357.5 1225,-357.5 1225,-357.5 1219,-357.5 1213,-351.5 1213,-345.5 1213,-345.5 1213,-316.5 1213,-316.5 1213,-310.5 1219,-304.5 1225,-304.5 1225,-304.5 1306,-304.5 1306,-304.5 1312,-304.5 1318,-310.5 1318,-316.5 1318,-316.5 1318,-345.5 1318,-345.5 1318,-351.5 1312,-357.5 1306,-357.5\"/>\r\n",
       "<text text-anchor=\"start\" x=\"1236.5\" y=\"-342.3\" font-family=\"Helvetica,sans-Serif\" font-size=\"14.00\">gini = 0.0</text>\r\n",
       "<text text-anchor=\"start\" x=\"1222\" y=\"-327.3\" font-family=\"Helvetica,sans-Serif\" font-size=\"14.00\">samples = 86</text>\r\n",
       "<text text-anchor=\"start\" x=\"1221\" y=\"-312.3\" font-family=\"Helvetica,sans-Serif\" font-size=\"14.00\">value = [86, 0]</text>\r\n",
       "</g>\r\n",
       "<!-- 30&#45;&gt;38 -->\r\n",
       "<g id=\"edge38\" class=\"edge\">\r\n",
       "<title>30&#45;&gt;38</title>\r\n",
       "<path fill=\"none\" stroke=\"black\" d=\"M1174.33,-400.88C1190.2,-388.9 1208.06,-375.4 1223.74,-363.55\"/>\r\n",
       "<polygon fill=\"black\" stroke=\"black\" points=\"1225.85,-366.34 1231.72,-357.52 1221.63,-360.76 1225.85,-366.34\"/>\r\n",
       "</g>\r\n",
       "<!-- 32 -->\r\n",
       "<g id=\"node33\" class=\"node\">\r\n",
       "<title>32</title>\r\n",
       "<path fill=\"#399de5\" stroke=\"black\" d=\"M1171,-253.5C1171,-253.5 1082,-253.5 1082,-253.5 1076,-253.5 1070,-247.5 1070,-241.5 1070,-241.5 1070,-212.5 1070,-212.5 1070,-206.5 1076,-200.5 1082,-200.5 1082,-200.5 1171,-200.5 1171,-200.5 1177,-200.5 1183,-206.5 1183,-212.5 1183,-212.5 1183,-241.5 1183,-241.5 1183,-247.5 1177,-253.5 1171,-253.5\"/>\r\n",
       "<text text-anchor=\"start\" x=\"1097.5\" y=\"-238.3\" font-family=\"Helvetica,sans-Serif\" font-size=\"14.00\">gini = 0.0</text>\r\n",
       "<text text-anchor=\"start\" x=\"1079\" y=\"-223.3\" font-family=\"Helvetica,sans-Serif\" font-size=\"14.00\">samples = 272</text>\r\n",
       "<text text-anchor=\"start\" x=\"1078\" y=\"-208.3\" font-family=\"Helvetica,sans-Serif\" font-size=\"14.00\">value = [0, 272]</text>\r\n",
       "</g>\r\n",
       "<!-- 31&#45;&gt;32 -->\r\n",
       "<g id=\"edge32\" class=\"edge\">\r\n",
       "<title>31&#45;&gt;32</title>\r\n",
       "<path fill=\"none\" stroke=\"black\" d=\"M1128.53,-296.88C1128.21,-286.22 1127.86,-274.35 1127.54,-263.52\"/>\r\n",
       "<polygon fill=\"black\" stroke=\"black\" points=\"1131.04,-263.41 1127.25,-253.52 1124.05,-263.62 1131.04,-263.41\"/>\r\n",
       "</g>\r\n",
       "<!-- 33 -->\r\n",
       "<g id=\"node34\" class=\"node\">\r\n",
       "<title>33</title>\r\n",
       "<path fill=\"#d6ebfa\" stroke=\"black\" d=\"M1319.5,-261C1319.5,-261 1213.5,-261 1213.5,-261 1207.5,-261 1201.5,-255 1201.5,-249 1201.5,-249 1201.5,-205 1201.5,-205 1201.5,-199 1207.5,-193 1213.5,-193 1213.5,-193 1319.5,-193 1319.5,-193 1325.5,-193 1331.5,-199 1331.5,-205 1331.5,-205 1331.5,-249 1331.5,-249 1331.5,-255 1325.5,-261 1319.5,-261\"/>\r\n",
       "<text text-anchor=\"start\" x=\"1225.5\" y=\"-245.8\" font-family=\"Helvetica,sans-Serif\" font-size=\"14.00\">bruises ≤ 0.5</text>\r\n",
       "<text text-anchor=\"start\" x=\"1229\" y=\"-230.8\" font-family=\"Helvetica,sans-Serif\" font-size=\"14.00\">gini = 0.493</text>\r\n",
       "<text text-anchor=\"start\" x=\"1219\" y=\"-215.8\" font-family=\"Helvetica,sans-Serif\" font-size=\"14.00\">samples = 233</text>\r\n",
       "<text text-anchor=\"start\" x=\"1209.5\" y=\"-200.8\" font-family=\"Helvetica,sans-Serif\" font-size=\"14.00\">value = [103, 130]</text>\r\n",
       "</g>\r\n",
       "<!-- 31&#45;&gt;33 -->\r\n",
       "<g id=\"edge33\" class=\"edge\">\r\n",
       "<title>31&#45;&gt;33</title>\r\n",
       "<path fill=\"none\" stroke=\"black\" d=\"M1173.98,-296.88C1186.66,-287.44 1200.6,-277.06 1213.73,-267.29\"/>\r\n",
       "<polygon fill=\"black\" stroke=\"black\" points=\"1215.84,-270.08 1221.77,-261.3 1211.66,-264.46 1215.84,-270.08\"/>\r\n",
       "</g>\r\n",
       "<!-- 34 -->\r\n",
       "<g id=\"node35\" class=\"node\">\r\n",
       "<title>34</title>\r\n",
       "<path fill=\"#e78b48\" stroke=\"black\" d=\"M1311,-157C1311,-157 1222,-157 1222,-157 1216,-157 1210,-151 1210,-145 1210,-145 1210,-101 1210,-101 1210,-95 1216,-89 1222,-89 1222,-89 1311,-89 1311,-89 1317,-89 1323,-95 1323,-101 1323,-101 1323,-145 1323,-145 1323,-151 1317,-157 1311,-157\"/>\r\n",
       "<text text-anchor=\"start\" x=\"1219\" y=\"-141.8\" font-family=\"Helvetica,sans-Serif\" font-size=\"14.00\">cap&#45;color ≤ 6.5</text>\r\n",
       "<text text-anchor=\"start\" x=\"1229\" y=\"-126.8\" font-family=\"Helvetica,sans-Serif\" font-size=\"14.00\">gini = 0.134</text>\r\n",
       "<text text-anchor=\"start\" x=\"1219\" y=\"-111.8\" font-family=\"Helvetica,sans-Serif\" font-size=\"14.00\">samples = 111</text>\r\n",
       "<text text-anchor=\"start\" x=\"1218\" y=\"-96.8\" font-family=\"Helvetica,sans-Serif\" font-size=\"14.00\">value = [103, 8]</text>\r\n",
       "</g>\r\n",
       "<!-- 33&#45;&gt;34 -->\r\n",
       "<g id=\"edge34\" class=\"edge\">\r\n",
       "<title>33&#45;&gt;34</title>\r\n",
       "<path fill=\"none\" stroke=\"black\" d=\"M1266.5,-192.88C1266.5,-184.78 1266.5,-175.98 1266.5,-167.47\"/>\r\n",
       "<polygon fill=\"black\" stroke=\"black\" points=\"1270,-167.3 1266.5,-157.3 1263,-167.3 1270,-167.3\"/>\r\n",
       "</g>\r\n",
       "<!-- 37 -->\r\n",
       "<g id=\"node38\" class=\"node\">\r\n",
       "<title>37</title>\r\n",
       "<path fill=\"#399de5\" stroke=\"black\" d=\"M1442,-149.5C1442,-149.5 1353,-149.5 1353,-149.5 1347,-149.5 1341,-143.5 1341,-137.5 1341,-137.5 1341,-108.5 1341,-108.5 1341,-102.5 1347,-96.5 1353,-96.5 1353,-96.5 1442,-96.5 1442,-96.5 1448,-96.5 1454,-102.5 1454,-108.5 1454,-108.5 1454,-137.5 1454,-137.5 1454,-143.5 1448,-149.5 1442,-149.5\"/>\r\n",
       "<text text-anchor=\"start\" x=\"1368.5\" y=\"-134.3\" font-family=\"Helvetica,sans-Serif\" font-size=\"14.00\">gini = 0.0</text>\r\n",
       "<text text-anchor=\"start\" x=\"1350\" y=\"-119.3\" font-family=\"Helvetica,sans-Serif\" font-size=\"14.00\">samples = 122</text>\r\n",
       "<text text-anchor=\"start\" x=\"1349\" y=\"-104.3\" font-family=\"Helvetica,sans-Serif\" font-size=\"14.00\">value = [0, 122]</text>\r\n",
       "</g>\r\n",
       "<!-- 33&#45;&gt;37 -->\r\n",
       "<g id=\"edge37\" class=\"edge\">\r\n",
       "<title>33&#45;&gt;37</title>\r\n",
       "<path fill=\"none\" stroke=\"black\" d=\"M1309.03,-192.88C1324.29,-181.01 1341.44,-167.65 1356.56,-155.88\"/>\r\n",
       "<polygon fill=\"black\" stroke=\"black\" points=\"1358.98,-158.43 1364.72,-149.52 1354.68,-152.9 1358.98,-158.43\"/>\r\n",
       "</g>\r\n",
       "<!-- 35 -->\r\n",
       "<g id=\"node36\" class=\"node\">\r\n",
       "<title>35</title>\r\n",
       "<path fill=\"#e58139\" stroke=\"black\" d=\"M1306,-53C1306,-53 1217,-53 1217,-53 1211,-53 1205,-47 1205,-41 1205,-41 1205,-12 1205,-12 1205,-6 1211,0 1217,0 1217,0 1306,0 1306,0 1312,0 1318,-6 1318,-12 1318,-12 1318,-41 1318,-41 1318,-47 1312,-53 1306,-53\"/>\r\n",
       "<text text-anchor=\"start\" x=\"1232.5\" y=\"-37.8\" font-family=\"Helvetica,sans-Serif\" font-size=\"14.00\">gini = 0.0</text>\r\n",
       "<text text-anchor=\"start\" x=\"1214\" y=\"-22.8\" font-family=\"Helvetica,sans-Serif\" font-size=\"14.00\">samples = 103</text>\r\n",
       "<text text-anchor=\"start\" x=\"1213\" y=\"-7.8\" font-family=\"Helvetica,sans-Serif\" font-size=\"14.00\">value = [103, 0]</text>\r\n",
       "</g>\r\n",
       "<!-- 34&#45;&gt;35 -->\r\n",
       "<g id=\"edge35\" class=\"edge\">\r\n",
       "<title>34&#45;&gt;35</title>\r\n",
       "<path fill=\"none\" stroke=\"black\" d=\"M1264.75,-88.95C1264.32,-80.72 1263.85,-71.85 1263.4,-63.48\"/>\r\n",
       "<polygon fill=\"black\" stroke=\"black\" points=\"1266.89,-63.04 1262.86,-53.24 1259.9,-63.41 1266.89,-63.04\"/>\r\n",
       "</g>\r\n",
       "<!-- 36 -->\r\n",
       "<g id=\"node37\" class=\"node\">\r\n",
       "<title>36</title>\r\n",
       "<path fill=\"#399de5\" stroke=\"black\" d=\"M1421,-53C1421,-53 1348,-53 1348,-53 1342,-53 1336,-47 1336,-41 1336,-41 1336,-12 1336,-12 1336,-6 1342,0 1348,0 1348,0 1421,0 1421,0 1427,0 1433,-6 1433,-12 1433,-12 1433,-41 1433,-41 1433,-47 1427,-53 1421,-53\"/>\r\n",
       "<text text-anchor=\"start\" x=\"1355.5\" y=\"-37.8\" font-family=\"Helvetica,sans-Serif\" font-size=\"14.00\">gini = 0.0</text>\r\n",
       "<text text-anchor=\"start\" x=\"1345\" y=\"-22.8\" font-family=\"Helvetica,sans-Serif\" font-size=\"14.00\">samples = 8</text>\r\n",
       "<text text-anchor=\"start\" x=\"1344\" y=\"-7.8\" font-family=\"Helvetica,sans-Serif\" font-size=\"14.00\">value = [0, 8]</text>\r\n",
       "</g>\r\n",
       "<!-- 34&#45;&gt;36 -->\r\n",
       "<g id=\"edge36\" class=\"edge\">\r\n",
       "<title>34&#45;&gt;36</title>\r\n",
       "<path fill=\"none\" stroke=\"black\" d=\"M1307.77,-88.95C1319.65,-79.43 1332.59,-69.07 1344.4,-59.62\"/>\r\n",
       "<polygon fill=\"black\" stroke=\"black\" points=\"1346.75,-62.22 1352.36,-53.24 1342.37,-56.76 1346.75,-62.22\"/>\r\n",
       "</g>\r\n",
       "</g>\r\n",
       "</svg>\r\n"
      ],
      "text/plain": [
       "<graphviz.files.Source at 0x25f1a02d130>"
      ]
     },
     "execution_count": 24,
     "metadata": {},
     "output_type": "execute_result"
    }
   ],
   "source": [
    "os.environ[\"PATH\"] += os.pathsep + 'C:\\Program Files (x86)\\Graphviz\\bin'\n",
    "\n",
    "dot_data = export_graphviz(dt, out_file=None, \n",
    "                         feature_names=X.columns,  \n",
    "                         filled=True, rounded=True,  \n",
    "                         special_characters=True)  \n",
    "graph = graphviz.Source(dot_data)\n",
    "graph"
   ]
  },
  {
   "cell_type": "markdown",
   "metadata": {},
   "source": [
    "In all the methods examined the most important feature is \"gill-color\"."
   ]
  },
  {
   "cell_type": "code",
   "execution_count": 25,
   "metadata": {},
   "outputs": [
    {
     "data": {
      "image/png": "[encoded data removed]",
      "text/plain": [
       "<Figure size 576x504 with 1 Axes>"
      ]
     },
     "metadata": {
      "needs_background": "light"
     },
     "output_type": "display_data"
    }
   ],
   "source": [
    "features_list = X.columns.values\n",
    "feature_importance = dt.feature_importances_\n",
    "sorted_idx = np.argsort(feature_importance)\n",
    "\n",
    "plt.figure(figsize=(8,7))\n",
    "plt.barh(range(len(sorted_idx)),feature_importance[sorted_idx], align='center', color='purple')\n",
    "plt.yticks(range(len(sorted_idx)), features_list[sorted_idx])\n",
    "plt.xlabel('Importance')\n",
    "plt.title('Feature Importance')\n",
    "plt.draw()\n",
    "plt.show()"
   ]
  },
  {
   "cell_type": "markdown",
   "metadata": {},
   "source": [
    "Now predicting and estimating the actual result."
   ]
  },
  {
   "cell_type": "code",
   "execution_count": 26,
   "metadata": {},
   "outputs": [],
   "source": [
    "y_pred_dt = dt.predict(X_test)"
   ]
  },
  {
   "cell_type": "code",
   "execution_count": 27,
   "metadata": {},
   "outputs": [
    {
     "name": "stdout",
     "output_type": "stream",
     "text": [
      "Desicion Tree Classifier report: \n",
      "\n",
      "               precision    recall  f1-score   support\n",
      "\n",
      "           0       1.00      1.00      1.00       433\n",
      "           1       1.00      1.00      1.00       380\n",
      "\n",
      "    accuracy                           1.00       813\n",
      "   macro avg       1.00      1.00      1.00       813\n",
      "weighted avg       1.00      1.00      1.00       813\n",
      "\n"
     ]
    }
   ],
   "source": [
    "print(\"Desicion Tree Classifier report: \\n\\n\", classification_report(Y_test, y_pred_dt))"
   ]
  },
  {
   "cell_type": "code",
   "execution_count": 28,
   "metadata": {},
   "outputs": [
    {
     "name": "stdout",
     "output_type": "stream",
     "text": [
      "Test Accuracy: 100.0%\n"
     ]
    }
   ],
   "source": [
    "print(\"Test Accuracy: {}%\".format(round(dt.score(X_test, Y_test)*100,2)))"
   ]
  },
  {
   "cell_type": "markdown",
   "metadata": {},
   "source": [
    "2.Logistics Regression Classification"
   ]
  },
  {
   "cell_type": "code",
   "execution_count": 30,
   "metadata": {},
   "outputs": [
    {
     "name": "stdout",
     "output_type": "stream",
     "text": [
      "Test Accuracy: 94.96%\n"
     ]
    }
   ],
   "source": [
    "from sklearn.linear_model import LogisticRegression\n",
    "\n",
    "lr = LogisticRegression(solver='lbfgs', max_iter=500)\n",
    "lr.fit(X_train, Y_train)\n",
    "\n",
    "print(\"Test Accuracy: {}%\".format(round(lr.score(X_test, Y_test)*100,2)))"
   ]
  },
  {
   "cell_type": "code",
   "execution_count": 33,
   "metadata": {},
   "outputs": [
    {
     "name": "stdout",
     "output_type": "stream",
     "text": [
      "Logistic Regression Classifier report: \n",
      "\n",
      "               precision    recall  f1-score   support\n",
      "\n",
      "           0       0.96      0.94      0.95       433\n",
      "           1       0.94      0.96      0.95       380\n",
      "\n",
      "    accuracy                           0.95       813\n",
      "   macro avg       0.95      0.95      0.95       813\n",
      "weighted avg       0.95      0.95      0.95       813\n",
      "\n"
     ]
    }
   ],
   "source": [
    "Y_pred_lr = lr.predict(X_test)\n",
    "print(\"Logistic Regression Classifier report: \\n\\n\", classification_report(Y_test, Y_pred_lr))"
   ]
  },
  {
   "cell_type": "code",
   "execution_count": null,
   "metadata": {},
   "outputs": [],
   "source": [
    "3.KNN Classifier"
   ]
  },
  {
   "cell_type": "code",
   "execution_count": 34,
   "metadata": {},
   "outputs": [
    {
     "name": "stdout",
     "output_type": "stream",
     "text": [
      "Best KNN Value: 1\n",
      "Test Accuracy: 100.0%\n"
     ]
    }
   ],
   "source": [
    "from sklearn.neighbors import KNeighborsClassifier\n",
    "\n",
    "best_Kvalue = 0\n",
    "best_score = 0\n",
    "\n",
    "for i in range(1,10):\n",
    "    knn = KNeighborsClassifier(n_neighbors=i)\n",
    "    knn.fit(X_train, Y_train)\n",
    "    if knn.score(X_test, Y_test) > best_score:\n",
    "        best_score = knn.score(X_train, Y_train)\n",
    "        best_Kvalue = i\n",
    "        \n",
    "print(\"Best KNN Value: {}\".format(best_Kvalue))\n",
    "print(\"Test Accuracy: {}%\".format(round(best_score*100,2)))"
   ]
  },
  {
   "cell_type": "code",
   "execution_count": 36,
   "metadata": {},
   "outputs": [
    {
     "name": "stdout",
     "output_type": "stream",
     "text": [
      "KNN Classifier report: \n",
      "\n",
      "               precision    recall  f1-score   support\n",
      "\n",
      "           0       1.00      0.99      1.00       433\n",
      "           1       0.99      1.00      1.00       380\n",
      "\n",
      "    accuracy                           1.00       813\n",
      "   macro avg       1.00      1.00      1.00       813\n",
      "weighted avg       1.00      1.00      1.00       813\n",
      "\n"
     ]
    }
   ],
   "source": [
    "Y_pred_knn = knn.predict(X_test)\n",
    "print(\"KNN Classifier report: \\n\\n\", classification_report(Y_test, Y_pred_knn))"
   ]
  },
  {
   "cell_type": "markdown",
   "metadata": {},
   "source": [
    "4.Random Forest Classifiers"
   ]
  },
  {
   "cell_type": "code",
   "execution_count": 37,
   "metadata": {},
   "outputs": [
    {
     "name": "stdout",
     "output_type": "stream",
     "text": [
      "Test Accuracy: 100.0%\n"
     ]
    }
   ],
   "source": [
    "from sklearn.ensemble import RandomForestClassifier\n",
    "\n",
    "rf = RandomForestClassifier(n_estimators=100, random_state=42)\n",
    "rf.fit(X_train, Y_train)\n",
    "\n",
    "print(\"Test Accuracy: {}%\".format(round(rf.score(X_test, Y_test)*100, 2)))"
   ]
  },
  {
   "cell_type": "code",
   "execution_count": 39,
   "metadata": {},
   "outputs": [
    {
     "name": "stdout",
     "output_type": "stream",
     "text": [
      "Random Forest Classifier report: \n",
      "\n",
      "               precision    recall  f1-score   support\n",
      "\n",
      "           0       1.00      1.00      1.00       433\n",
      "           1       1.00      1.00      1.00       380\n",
      "\n",
      "    accuracy                           1.00       813\n",
      "   macro avg       1.00      1.00      1.00       813\n",
      "weighted avg       1.00      1.00      1.00       813\n",
      "\n"
     ]
    }
   ],
   "source": [
    "Y_pred_rf = rf.predict(X_test)\n",
    "print(\"Random Forest Classifier report: \\n\\n\", classification_report(Y_test, Y_pred_rf))"
   ]
  },
  {
   "cell_type": "code",
   "execution_count": 40,
   "metadata": {},
   "outputs": [
    {
     "name": "stdout",
     "output_type": "stream",
     "text": [
      "[0 1 1 0 1 1 1 1 0 0 0 1 0 0 0 0 0 1 0 0 0 0 1 0 1 0 0 0 0 1 1 1 0 0 0 1]\n",
      "[0 1 1 0 1 1 1 1 0 0 0 1 0 0 0 0 0 1 0 0 0 0 1 0 1 0 0 0 0 1 1 1 0 0 0 1]\n"
     ]
    }
   ],
   "source": [
    "preds = dt.predict(X_test)\n",
    "\n",
    "print(preds[:36])\n",
    "print(Y_test[:36].values)\n",
    "\n",
    "# 0 - Edible\n",
    "# 1 - Poisonous"
   ]
  },
  {
   "cell_type": "markdown",
   "metadata": {},
   "source": [
    "From the confusion matrix it can be said that the predicted and actual values are 100% accurate."
   ]
  },
  {
   "cell_type": "markdown",
   "metadata": {},
   "source": [
    "Conclusion:- So it is concluded that the train and test data is completely balanced.As we can see from above we are getting almost 100% accuracy from all the classification methods."
   ]
  }
 ],
 "metadata": {
  "kernelspec": {
   "display_name": "Python 3",
   "language": "python",
   "name": "python3"
  },
  "language_info": {
   "codemirror_mode": {
    "name": "ipython",
    "version": 3
   },
   "file_extension": ".py",
   "mimetype": "text/x-python",
   "name": "python",
   "nbconvert_exporter": "python",
   "pygments_lexer": "ipython3",
   "version": "3.8.5"
  }
 },
 "nbformat": 4,
 "nbformat_minor": 4
}
